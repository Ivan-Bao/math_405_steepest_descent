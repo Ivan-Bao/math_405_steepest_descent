{
 "cells": [
  {
   "cell_type": "markdown",
   "metadata": {
    "slideshow": {
     "slide_type": "slide"
    }
   },
   "source": [
    "# MATH 405/607 \n",
    "\n",
    "# Numerical Methods for Differential Equations\n",
    "\n",
    "[[Instructor: Christoph Ortner]](http://www.math.ubc.ca/~ortner/)   [[course page]](https://github.com/cortner/math405_2022)\n",
    "\n",
    "\n",
    "\n",
    "\n",
    "## L04 - Linear Systems\n",
    "\n",
    "* arrays\n",
    "* vectors and matrices\n",
    "* linear systems in matrix form\n",
    "* backsubstitution\n",
    "* Gaussian elimination \n",
    "* LU factorisation\n",
    "* sparse matrices\n",
    "* banded matrices \n",
    "* Eigendecomposition"
   ]
  },
  {
   "cell_type": "code",
   "execution_count": 1,
   "metadata": {
    "slideshow": {
     "slide_type": "subslide"
    }
   },
   "outputs": [
    {
     "name": "stderr",
     "output_type": "stream",
     "text": [
      "┌ Info: You are not running in the `math405` Jupyter Hub environment. \n",
      "│ I'm therefore activating the local environment.\n",
      "│ Make sure you know what you are doing! If this is unintentional \n",
      "│ then get in touch with your instructor to get help.\n",
      "└ @ Main /Users/ortner/gits/math405_2022/notes/math405.jl:7\n",
      "\u001b[32m\u001b[1m  Activating\u001b[22m\u001b[39m project at `~/gits/math405_2022/notes`\n"
     ]
    }
   ],
   "source": [
    "include(\"math405.jl\")"
   ]
  },
  {
   "cell_type": "markdown",
   "metadata": {
    "slideshow": {
     "slide_type": "subslide"
    }
   },
   "source": [
    "* https://fncbook.github.io/fnc/linsys/overview.html\n",
    "* https://github.com/ettersi/ComputationalMathematics/blob/master/03_lu_factorisation.pdf\n",
    "* E. Süli and D. Mayer, An Introduction to Numerical Analysis, Ch. 2\n",
    "* G. H. Golub and C. F. Van Loan. Matrix Computations. 1996\n",
    "* L. N. Trefethen and D. Bau. Numerical Linear Algebra. 1997\n",
    "* N. J. Higham. Accuracy and Stability of Numerical Algorithms. 2002 "
   ]
  },
  {
   "cell_type": "markdown",
   "metadata": {
    "slideshow": {
     "slide_type": "slide"
    }
   },
   "source": [
    "## Background \n",
    "\n",
    "I will assume that you are familiar with symbolic linear algebra, in particular: \n",
    "* The vector spaces $\\mathbb{R}^N, \\mathbb{C}^N$\n",
    "* If we don't want to specify which field we are considering we will write $\\mathbb{F}$\n",
    "* Vectors $x \\in \\mathbb{F}^N$, Matrices $A \\in \\mathbb{F}^{M \\times N}$\n",
    "* Standard matrix algebra, such as $A * B, A+\\lambda B, A*x$, etc.\n",
    "* Matrices are representations of linear operators\n",
    "* Writing linear systems in matrix form \n",
    "* Gaussian elimination for solving linear systems\n",
    "\n",
    "If you need to review this background, then please find some suitable lecture notes."
   ]
  },
  {
   "cell_type": "markdown",
   "metadata": {
    "slideshow": {
     "slide_type": "subslide"
    }
   },
   "source": [
    "In `Julia` we can create and manipulate matrices and vectors as follows:\n",
    "* https://docs.julialang.org/en/v1/manual/arrays/\n",
    "* https://docs.julialang.org/en/v1/stdlib/LinearAlgebra/"
   ]
  },
  {
   "cell_type": "code",
   "execution_count": 2,
   "metadata": {
    "slideshow": {
     "slide_type": "fragment"
    }
   },
   "outputs": [
    {
     "data": {
      "text/plain": [
       "3-element Vector{Float64}:\n",
       " 0.635661141033263\n",
       " 0.8267902654198881\n",
       " 0.2462251722850558"
      ]
     },
     "execution_count": 2,
     "metadata": {},
     "output_type": "execute_result"
    }
   ],
   "source": [
    "x = rand(3)       # vector with random entries"
   ]
  },
  {
   "cell_type": "code",
   "execution_count": 3,
   "metadata": {
    "slideshow": {
     "slide_type": "fragment"
    }
   },
   "outputs": [
    {
     "data": {
      "text/plain": [
       "3×3 Matrix{Float64}:\n",
       " 0.0489218  0.388194  0.0679635\n",
       " 0.807611   0.571594  0.651348\n",
       " 0.522048   0.783339  0.491211"
      ]
     },
     "execution_count": 3,
     "metadata": {},
     "output_type": "execute_result"
    }
   ],
   "source": [
    "A = rand(3, 3)   # 3 x 3 matrix with random entries"
   ]
  },
  {
   "cell_type": "code",
   "execution_count": 4,
   "metadata": {
    "slideshow": {
     "slide_type": "fragment"
    }
   },
   "outputs": [
    {
     "data": {
      "text/plain": [
       "3-element Vector{Float64}:\n",
       " 0.3687866769402452\n",
       " 1.1463337524624697\n",
       " 1.100451202301447"
      ]
     },
     "execution_count": 4,
     "metadata": {},
     "output_type": "execute_result"
    }
   ],
   "source": [
    "y = A * x          # mat-vec multiplication"
   ]
  },
  {
   "cell_type": "code",
   "execution_count": 5,
   "metadata": {
    "slideshow": {
     "slide_type": "subslide"
    }
   },
   "outputs": [
    {
     "data": {
      "text/plain": [
       "3-element Vector{Float64}:\n",
       " 1.0044478179735081\n",
       " 1.9731240178823577\n",
       " 1.3466763745865027"
      ]
     },
     "execution_count": 5,
     "metadata": {},
     "output_type": "execute_result"
    }
   ],
   "source": [
    "y + x              # addition "
   ]
  },
  {
   "cell_type": "code",
   "execution_count": 6,
   "metadata": {
    "slideshow": {
     "slide_type": "fragment"
    }
   },
   "outputs": [
    {
     "data": {
      "text/plain": [
       "3-element Vector{Float64}:\n",
       " 0.2344233598617016\n",
       " 0.9477775874582216\n",
       " 0.2709587868779706"
      ]
     },
     "execution_count": 6,
     "metadata": {},
     "output_type": "execute_result"
    }
   ],
   "source": [
    "y .* x             # elementwise multiplication"
   ]
  },
  {
   "cell_type": "code",
   "execution_count": 7,
   "metadata": {
    "slideshow": {
     "slide_type": "fragment"
    }
   },
   "outputs": [
    {
     "ename": "LoadError",
     "evalue": "MethodError: no method matching *(::Vector{Float64}, ::Vector{Float64})\n\u001b[0mClosest candidates are:\n\u001b[0m  *(::Any, ::Any, \u001b[91m::Any\u001b[39m, \u001b[91m::Any...\u001b[39m) at /Applications/Julia-1.7.app/Contents/Resources/julia/share/julia/base/operators.jl:655\n\u001b[0m  *(\u001b[91m::StridedMatrix{T}\u001b[39m, ::StridedVector{S}) where {T<:Union{Float32, Float64, ComplexF32, ComplexF64}, S<:Real} at /Applications/Julia-1.7.app/Contents/Resources/julia/share/julia/stdlib/v1.7/LinearAlgebra/src/matmul.jl:44\n\u001b[0m  *(::StridedVecOrMat, \u001b[91m::Adjoint{<:Any, <:LinearAlgebra.LQPackedQ}\u001b[39m) at /Applications/Julia-1.7.app/Contents/Resources/julia/share/julia/stdlib/v1.7/LinearAlgebra/src/lq.jl:266\n\u001b[0m  ...",
     "output_type": "error",
     "traceback": [
      "MethodError: no method matching *(::Vector{Float64}, ::Vector{Float64})\n\u001b[0mClosest candidates are:\n\u001b[0m  *(::Any, ::Any, \u001b[91m::Any\u001b[39m, \u001b[91m::Any...\u001b[39m) at /Applications/Julia-1.7.app/Contents/Resources/julia/share/julia/base/operators.jl:655\n\u001b[0m  *(\u001b[91m::StridedMatrix{T}\u001b[39m, ::StridedVector{S}) where {T<:Union{Float32, Float64, ComplexF32, ComplexF64}, S<:Real} at /Applications/Julia-1.7.app/Contents/Resources/julia/share/julia/stdlib/v1.7/LinearAlgebra/src/matmul.jl:44\n\u001b[0m  *(::StridedVecOrMat, \u001b[91m::Adjoint{<:Any, <:LinearAlgebra.LQPackedQ}\u001b[39m) at /Applications/Julia-1.7.app/Contents/Resources/julia/share/julia/stdlib/v1.7/LinearAlgebra/src/lq.jl:266\n\u001b[0m  ...",
      "",
      "Stacktrace:",
      " [1] top-level scope",
      "   @ In[7]:1",
      " [2] eval",
      "   @ ./boot.jl:373 [inlined]",
      " [3] include_string(mapexpr::typeof(REPL.softscope), mod::Module, code::String, filename::String)",
      "   @ Base ./loading.jl:1196"
     ]
    }
   ],
   "source": [
    "y * x              # Warning to Matlab users : y * x is not defined "
   ]
  },
  {
   "cell_type": "code",
   "execution_count": 8,
   "metadata": {
    "slideshow": {
     "slide_type": "fragment"
    }
   },
   "outputs": [
    {
     "data": {
      "text/plain": [
       "3×2 Matrix{Float64}:\n",
       " 0.418753  0.0595034\n",
       " 1.28384   0.136476\n",
       " 1.24169   0.148485"
      ]
     },
     "execution_count": 8,
     "metadata": {},
     "output_type": "execute_result"
    }
   ],
   "source": [
    "A * rand(3, 2)   # matrix-matrix multiplication"
   ]
  },
  {
   "cell_type": "code",
   "execution_count": 9,
   "metadata": {
    "slideshow": {
     "slide_type": "subslide"
    }
   },
   "outputs": [
    {
     "data": {
      "text/plain": [
       "3-element Vector{Float64}:\n",
       " 1.0\n",
       " 2.0\n",
       " 3.0"
      ]
     },
     "execution_count": 9,
     "metadata": {},
     "output_type": "execute_result"
    }
   ],
   "source": [
    "# construct vectors and matrices \"manually\"\n",
    "x = [ 1.0, 2.0, 3.0 ]"
   ]
  },
  {
   "cell_type": "code",
   "execution_count": 10,
   "metadata": {
    "slideshow": {
     "slide_type": "fragment"
    }
   },
   "outputs": [
    {
     "data": {
      "text/plain": [
       "2×2 Matrix{Float64}:\n",
       " 1.0  2.0\n",
       " 3.0  4.0"
      ]
     },
     "execution_count": 10,
     "metadata": {},
     "output_type": "execute_result"
    }
   ],
   "source": [
    "A = [ 1.0 2.0 \n",
    "      3.0 4.0 ]"
   ]
  },
  {
   "cell_type": "code",
   "execution_count": 11,
   "metadata": {},
   "outputs": [
    {
     "data": {
      "text/plain": [
       "2×2 Matrix{Float64}:\n",
       " 1.0  2.0\n",
       " 3.0  4.0"
      ]
     },
     "execution_count": 11,
     "metadata": {},
     "output_type": "execute_result"
    }
   ],
   "source": [
    "B = [ 1.0 2.0; 3.0 4.0 ]"
   ]
  },
  {
   "cell_type": "code",
   "execution_count": 12,
   "metadata": {},
   "outputs": [
    {
     "data": {
      "text/plain": [
       "2×2 Matrix{Int64}:\n",
       " 1  2\n",
       " 3  4"
      ]
     },
     "execution_count": 12,
     "metadata": {},
     "output_type": "execute_result"
    }
   ],
   "source": [
    "C = [ 1 2; 3 4 ]"
   ]
  },
  {
   "cell_type": "code",
   "execution_count": 13,
   "metadata": {},
   "outputs": [
    {
     "data": {
      "text/plain": [
       "Int64"
      ]
     },
     "execution_count": 13,
     "metadata": {},
     "output_type": "execute_result"
    }
   ],
   "source": [
    "x = 3\n",
    "typeof(x)"
   ]
  },
  {
   "cell_type": "markdown",
   "metadata": {
    "slideshow": {
     "slide_type": "subslide"
    }
   },
   "source": [
    "Further Julia functions and types to work with arrays: \n",
    "* `Array` is the type, but also the constructor, e.g., `Array{Float64, 2}(undef, 10, 10)` allocates a 10 x 10 real matrix with undefined entries.\n",
    "* `zeros`, `ones`, `randn`\n",
    "* `A'` for adjoint; `transpose` for transpose\n",
    "* `ComplexF64` for complex matrices, e.g., `rand(ComplexF64, (10,10))`\n",
    "* `ldiv!, rdiv!, mul!` for efficient in-place operations\n",
    "* broadcasting, e.g., `f.(A)` applies `f` to each element\n",
    "* Warning: `exp(A)` is the matrix exponential, `exp.(A)` the elementwise exponential"
   ]
  },
  {
   "cell_type": "code",
   "execution_count": 14,
   "metadata": {},
   "outputs": [
    {
     "name": "stdout",
     "output_type": "stream",
     "text": [
      "exp(A) = [1.5576366012312592 0.6444903104494882 1.160382040175431; 0.5181012724463682 1.7273042774704035 0.7237137913433056; 0.41771383066509954 0.9252238607046032 1.3200378315935215]\n",
      "exp.(A) = [1.355915152985946 1.1839740819558326 2.377445532139627; 1.3475239871920657 1.4582869197026855 1.5137966370366145; 1.2479370384002952 1.9636162663139103 1.0021927091768212]\n"
     ]
    }
   ],
   "source": [
    "A = rand(3,3)\n",
    "@show exp(A)\n",
    "@show exp.(A);"
   ]
  },
  {
   "cell_type": "code",
   "execution_count": 15,
   "metadata": {},
   "outputs": [
    {
     "name": "stdout",
     "output_type": "stream",
     "text": [
      "search: \u001b[0m\u001b[1me\u001b[22m\u001b[0m\u001b[1mx\u001b[22m\u001b[0m\u001b[1mp\u001b[22m \u001b[0m\u001b[1me\u001b[22m\u001b[0m\u001b[1mx\u001b[22m\u001b[0m\u001b[1mp\u001b[22m2 \u001b[0m\u001b[1mE\u001b[22m\u001b[0m\u001b[1mx\u001b[22m\u001b[0m\u001b[1mp\u001b[22mr \u001b[0m\u001b[1me\u001b[22m\u001b[0m\u001b[1mx\u001b[22m\u001b[0m\u001b[1mp\u001b[22mm1 \u001b[0m\u001b[1me\u001b[22m\u001b[0m\u001b[1mx\u001b[22m\u001b[0m\u001b[1mp\u001b[22m10 \u001b[0m\u001b[1me\u001b[22m\u001b[0m\u001b[1mx\u001b[22m\u001b[0m\u001b[1mp\u001b[22mort \u001b[0m\u001b[1me\u001b[22m\u001b[0m\u001b[1mx\u001b[22m\u001b[0m\u001b[1mp\u001b[22mint \u001b[0m\u001b[1me\u001b[22m\u001b[0m\u001b[1mx\u001b[22m\u001b[0m\u001b[1mp\u001b[22mintx \u001b[0m\u001b[1me\u001b[22m\u001b[0m\u001b[1mx\u001b[22m\u001b[0m\u001b[1mp\u001b[22minti \u001b[0m\u001b[1me\u001b[22m\u001b[0m\u001b[1mx\u001b[22m\u001b[0m\u001b[1mp\u001b[22monent\n",
      "\n"
     ]
    },
    {
     "data": {
      "text/latex": [
       "\\begin{verbatim}\n",
       "exp(x)\n",
       "\\end{verbatim}\n",
       "Compute the natural base exponential of \\texttt{x}, in other words $ℯ^x$.\n",
       "\n",
       "See also \\href{@ref}{\\texttt{exp2}}, \\href{@ref}{\\texttt{exp10}} and \\href{@ref}{\\texttt{cis}}.\n",
       "\n",
       "\\section{Examples}\n",
       "\\begin{verbatim}\n",
       "julia> exp(1.0)\n",
       "2.718281828459045\n",
       "\n",
       "julia> exp(im * pi) == cis(pi)\n",
       "true\n",
       "\\end{verbatim}\n",
       "\\rule{\\textwidth}{1pt}\n",
       "\\begin{verbatim}\n",
       "exp(A::AbstractMatrix)\n",
       "\\end{verbatim}\n",
       "Compute the matrix exponential of \\texttt{A}, defined by\n",
       "\n",
       "$$e^A = \\sum_{n=0}^{\\infty} \\frac{A^n}{n!}.$$\n",
       "For symmetric or Hermitian \\texttt{A}, an eigendecomposition (\\href{@ref}{\\texttt{eigen}}) is used, otherwise the scaling and squaring algorithm (see \\footnotemark[H05]) is chosen.\n",
       "\n",
       "\\footnotetext[H05]{Nicholas J. Higham, \"The squaring and scaling method for the matrix exponential revisited\", SIAM Journal on Matrix Analysis and Applications, 26(4), 2005, 1179-1193. \\href{https://doi.org/10.1137/090768539}{doi:10.1137/090768539}\n",
       "\n",
       "}\n",
       "\\section{Examples}\n",
       "\\begin{verbatim}\n",
       "julia> A = Matrix(1.0I, 2, 2)\n",
       "2×2 Matrix{Float64}:\n",
       " 1.0  0.0\n",
       " 0.0  1.0\n",
       "\n",
       "julia> exp(A)\n",
       "2×2 Matrix{Float64}:\n",
       " 2.71828  0.0\n",
       " 0.0      2.71828\n",
       "\\end{verbatim}\n"
      ],
      "text/markdown": [
       "```\n",
       "exp(x)\n",
       "```\n",
       "\n",
       "Compute the natural base exponential of `x`, in other words $ℯ^x$.\n",
       "\n",
       "See also [`exp2`](@ref), [`exp10`](@ref) and [`cis`](@ref).\n",
       "\n",
       "# Examples\n",
       "\n",
       "```jldoctest\n",
       "julia> exp(1.0)\n",
       "2.718281828459045\n",
       "\n",
       "julia> exp(im * pi) == cis(pi)\n",
       "true\n",
       "```\n",
       "\n",
       "---\n",
       "\n",
       "```\n",
       "exp(A::AbstractMatrix)\n",
       "```\n",
       "\n",
       "Compute the matrix exponential of `A`, defined by\n",
       "\n",
       "$$\n",
       "e^A = \\sum_{n=0}^{\\infty} \\frac{A^n}{n!}.\n",
       "$$\n",
       "\n",
       "For symmetric or Hermitian `A`, an eigendecomposition ([`eigen`](@ref)) is used, otherwise the scaling and squaring algorithm (see [^H05]) is chosen.\n",
       "\n",
       "[^H05]: Nicholas J. Higham, \"The squaring and scaling method for the matrix exponential revisited\", SIAM Journal on Matrix Analysis and Applications, 26(4), 2005, 1179-1193. [doi:10.1137/090768539](https://doi.org/10.1137/090768539)\n",
       "\n",
       "# Examples\n",
       "\n",
       "```jldoctest\n",
       "julia> A = Matrix(1.0I, 2, 2)\n",
       "2×2 Matrix{Float64}:\n",
       " 1.0  0.0\n",
       " 0.0  1.0\n",
       "\n",
       "julia> exp(A)\n",
       "2×2 Matrix{Float64}:\n",
       " 2.71828  0.0\n",
       " 0.0      2.71828\n",
       "```\n"
      ],
      "text/plain": [
       "\u001b[36m  exp(x)\u001b[39m\n",
       "\n",
       "  Compute the natural base exponential of \u001b[36mx\u001b[39m, in other words \u001b[35mℯ^x\u001b[39m.\n",
       "\n",
       "  See also \u001b[36mexp2\u001b[39m, \u001b[36mexp10\u001b[39m and \u001b[36mcis\u001b[39m.\n",
       "\n",
       "\u001b[1m  Examples\u001b[22m\n",
       "\u001b[1m  ≡≡≡≡≡≡≡≡≡≡\u001b[22m\n",
       "\n",
       "\u001b[36m  julia> exp(1.0)\u001b[39m\n",
       "\u001b[36m  2.718281828459045\u001b[39m\n",
       "\u001b[36m  \u001b[39m\n",
       "\u001b[36m  julia> exp(im * pi) == cis(pi)\u001b[39m\n",
       "\u001b[36m  true\u001b[39m\n",
       "\n",
       "  ────────────────────────────────────────────────────────────────────────────\n",
       "\n",
       "\u001b[36m  exp(A::AbstractMatrix)\u001b[39m\n",
       "\n",
       "  Compute the matrix exponential of \u001b[36mA\u001b[39m, defined by\n",
       "\n",
       "\u001b[35m  e^A = \\sum_{n=0}^{\\infty} \\frac{A^n}{n!}.\u001b[39m\n",
       "\n",
       "  For symmetric or Hermitian \u001b[36mA\u001b[39m, an eigendecomposition (\u001b[36meigen\u001b[39m) is used,\n",
       "  otherwise the scaling and squaring algorithm (see \u001b[1m[^H05]\u001b[22m) is chosen.\n",
       "\n",
       "  │ \u001b[0m\u001b[1m[^H05]\u001b[22m\n",
       "  │\n",
       "  │  Nicholas J. Higham, \"The squaring and scaling method for the\n",
       "  │  matrix exponential revisited\", SIAM Journal on Matrix Analysis and\n",
       "  │  Applications, 26(4), 2005, 1179-1193. doi:10.1137/090768539\n",
       "  │  (https://doi.org/10.1137/090768539)\n",
       "\n",
       "\u001b[1m  Examples\u001b[22m\n",
       "\u001b[1m  ≡≡≡≡≡≡≡≡≡≡\u001b[22m\n",
       "\n",
       "\u001b[36m  julia> A = Matrix(1.0I, 2, 2)\u001b[39m\n",
       "\u001b[36m  2×2 Matrix{Float64}:\u001b[39m\n",
       "\u001b[36m   1.0  0.0\u001b[39m\n",
       "\u001b[36m   0.0  1.0\u001b[39m\n",
       "\u001b[36m  \u001b[39m\n",
       "\u001b[36m  julia> exp(A)\u001b[39m\n",
       "\u001b[36m  2×2 Matrix{Float64}:\u001b[39m\n",
       "\u001b[36m   2.71828  0.0\u001b[39m\n",
       "\u001b[36m   0.0      2.71828\u001b[39m"
      ]
     },
     "execution_count": 15,
     "metadata": {},
     "output_type": "execute_result"
    }
   ],
   "source": [
    "?exp"
   ]
  },
  {
   "cell_type": "markdown",
   "metadata": {
    "slideshow": {
     "slide_type": "fragment"
    }
   },
   "source": [
    "Remark on transpose vs adjoint: $A^H = A^* = \\bar{A}^T$ (i.e. transpose and complex conjugate)"
   ]
  },
  {
   "cell_type": "markdown",
   "metadata": {
    "slideshow": {
     "slide_type": "subslide"
    }
   },
   "source": [
    "Most Julia functions are well documented, you can look at the help text using `?`"
   ]
  },
  {
   "cell_type": "code",
   "execution_count": 16,
   "metadata": {},
   "outputs": [
    {
     "name": "stdout",
     "output_type": "stream",
     "text": [
      "search: \u001b[0m\u001b[1mr\u001b[22m\u001b[0m\u001b[1ma\u001b[22m\u001b[0m\u001b[1mn\u001b[22m\u001b[0m\u001b[1md\u001b[22m\u001b[0m\u001b[1mn\u001b[22m \u001b[0m\u001b[1mr\u001b[22m\u001b[0m\u001b[1ma\u001b[22m\u001b[0m\u001b[1mn\u001b[22m\u001b[0m\u001b[1md\u001b[22m\u001b[0m\u001b[1mn\u001b[22m! sp\u001b[0m\u001b[1mr\u001b[22m\u001b[0m\u001b[1ma\u001b[22m\u001b[0m\u001b[1mn\u001b[22m\u001b[0m\u001b[1md\u001b[22m\u001b[0m\u001b[1mn\u001b[22m \u001b[0m\u001b[1mr\u001b[22m\u001b[0m\u001b[1ma\u001b[22m\u001b[0m\u001b[1mn\u001b[22m\u001b[0m\u001b[1md\u001b[22mstri\u001b[0m\u001b[1mn\u001b[22mg low\u001b[0m\u001b[1mr\u001b[22m\u001b[0m\u001b[1ma\u001b[22m\u001b[0m\u001b[1mn\u001b[22mk\u001b[0m\u001b[1md\u001b[22mow\u001b[0m\u001b[1mn\u001b[22mdate low\u001b[0m\u001b[1mr\u001b[22m\u001b[0m\u001b[1ma\u001b[22m\u001b[0m\u001b[1mn\u001b[22mk\u001b[0m\u001b[1md\u001b[22mow\u001b[0m\u001b[1mn\u001b[22mdate!\n",
      "\n"
     ]
    },
    {
     "data": {
      "text/latex": [
       "\\begin{verbatim}\n",
       "randn([rng=GLOBAL_RNG], [T=Float64], [dims...])\n",
       "\\end{verbatim}\n",
       "Generate a normally-distributed random number of type \\texttt{T} with mean 0 and standard deviation 1. Optionally generate an array of normally-distributed random numbers. The \\texttt{Base} module currently provides an implementation for the types \\href{@ref}{\\texttt{Float16}}, \\href{@ref}{\\texttt{Float32}}, and \\href{@ref}{\\texttt{Float64}} (the default), and their \\href{@ref}{\\texttt{Complex}} counterparts. When the type argument is complex, the values are drawn from the circularly symmetric complex normal distribution of variance 1 (corresponding to real and imaginary part having independent normal distribution with mean zero and variance \\texttt{1/2}).\n",
       "\n",
       "\\section{Examples}\n",
       "\\begin{verbatim}\n",
       "julia> using Random\n",
       "\n",
       "julia> rng = MersenneTwister(1234);\n",
       "\n",
       "julia> randn(rng, ComplexF64)\n",
       "0.6133070881429037 - 0.6376291670853887im\n",
       "\n",
       "julia> randn(rng, ComplexF32, (2, 3))\n",
       "2×3 Matrix{ComplexF32}:\n",
       " -0.349649-0.638457im  0.376756-0.192146im  -0.396334-0.0136413im\n",
       "  0.611224+1.56403im   0.355204-0.365563im  0.0905552+1.31012im\n",
       "\\end{verbatim}\n"
      ],
      "text/markdown": [
       "```\n",
       "randn([rng=GLOBAL_RNG], [T=Float64], [dims...])\n",
       "```\n",
       "\n",
       "Generate a normally-distributed random number of type `T` with mean 0 and standard deviation 1. Optionally generate an array of normally-distributed random numbers. The `Base` module currently provides an implementation for the types [`Float16`](@ref), [`Float32`](@ref), and [`Float64`](@ref) (the default), and their [`Complex`](@ref) counterparts. When the type argument is complex, the values are drawn from the circularly symmetric complex normal distribution of variance 1 (corresponding to real and imaginary part having independent normal distribution with mean zero and variance `1/2`).\n",
       "\n",
       "# Examples\n",
       "\n",
       "```jldoctest\n",
       "julia> using Random\n",
       "\n",
       "julia> rng = MersenneTwister(1234);\n",
       "\n",
       "julia> randn(rng, ComplexF64)\n",
       "0.6133070881429037 - 0.6376291670853887im\n",
       "\n",
       "julia> randn(rng, ComplexF32, (2, 3))\n",
       "2×3 Matrix{ComplexF32}:\n",
       " -0.349649-0.638457im  0.376756-0.192146im  -0.396334-0.0136413im\n",
       "  0.611224+1.56403im   0.355204-0.365563im  0.0905552+1.31012im\n",
       "```\n"
      ],
      "text/plain": [
       "\u001b[36m  randn([rng=GLOBAL_RNG], [T=Float64], [dims...])\u001b[39m\n",
       "\n",
       "  Generate a normally-distributed random number of type \u001b[36mT\u001b[39m with mean 0 and\n",
       "  standard deviation 1. Optionally generate an array of normally-distributed\n",
       "  random numbers. The \u001b[36mBase\u001b[39m module currently provides an implementation for the\n",
       "  types \u001b[36mFloat16\u001b[39m, \u001b[36mFloat32\u001b[39m, and \u001b[36mFloat64\u001b[39m (the default), and their \u001b[36mComplex\u001b[39m\n",
       "  counterparts. When the type argument is complex, the values are drawn from\n",
       "  the circularly symmetric complex normal distribution of variance 1\n",
       "  (corresponding to real and imaginary part having independent normal\n",
       "  distribution with mean zero and variance \u001b[36m1/2\u001b[39m).\n",
       "\n",
       "\u001b[1m  Examples\u001b[22m\n",
       "\u001b[1m  ≡≡≡≡≡≡≡≡≡≡\u001b[22m\n",
       "\n",
       "\u001b[36m  julia> using Random\u001b[39m\n",
       "\u001b[36m  \u001b[39m\n",
       "\u001b[36m  julia> rng = MersenneTwister(1234);\u001b[39m\n",
       "\u001b[36m  \u001b[39m\n",
       "\u001b[36m  julia> randn(rng, ComplexF64)\u001b[39m\n",
       "\u001b[36m  0.6133070881429037 - 0.6376291670853887im\u001b[39m\n",
       "\u001b[36m  \u001b[39m\n",
       "\u001b[36m  julia> randn(rng, ComplexF32, (2, 3))\u001b[39m\n",
       "\u001b[36m  2×3 Matrix{ComplexF32}:\u001b[39m\n",
       "\u001b[36m   -0.349649-0.638457im  0.376756-0.192146im  -0.396334-0.0136413im\u001b[39m\n",
       "\u001b[36m    0.611224+1.56403im   0.355204-0.365563im  0.0905552+1.31012im\u001b[39m"
      ]
     },
     "execution_count": 16,
     "metadata": {},
     "output_type": "execute_result"
    }
   ],
   "source": [
    "?randn"
   ]
  },
  {
   "cell_type": "markdown",
   "metadata": {
    "slideshow": {
     "slide_type": "slide"
    }
   },
   "source": [
    "### Goal of this lecture: \n",
    "\n",
    "Direct solution of linear systems: If $A = (a_{ij})_{i,j=1}^N \\in \\mathbb{F}^{N \\times N}, b = (b_i)_{i=1}^N \\in \\mathbb{F}^N$, find $x = (x_i)_{i=1}^N \\in \\mathbb{F}^N$ s.t.\n",
    "\n",
    "$$\\begin{aligned}\n",
    "   a_{11} x_1 + a_{12} x_2 + \\cdots + a_{1N} x_N &= b_1 \\\\ \n",
    "   a_{21} x_1 + a_{22} x_2 + \\cdots + a_{2N} x_N &= b_2  \\\\ \n",
    "         & \\qquad  \\vdots \\\\\n",
    "   a_{N1} x_1 + a_{N2} x_2 + \\cdots + a_{NN} x_N &= b_N  \\\\ \n",
    "\\end{aligned}$$\n"
   ]
  },
  {
   "cell_type": "markdown",
   "metadata": {
    "slideshow": {
     "slide_type": "subslide"
    }
   },
   "source": [
    "$$\\begin{aligned}\n",
    "   a_{11} x_1 + a_{12} x_2 + \\cdots + a_{1N} x_N &= b_1 \\\\ \n",
    "   a_{21} x_1 + a_{22} x_2 + \\cdots + a_{2N} x_N &= b_2  \\\\ \n",
    "         & \\qquad  \\vdots \\\\\n",
    "   a_{N1} x_1 + a_{N2} x_2 + \\cdots + a_{NN} x_N &= b_N  \\\\ \n",
    "\\end{aligned}$$"
   ]
  },
  {
   "cell_type": "markdown",
   "metadata": {
    "slideshow": {
     "slide_type": "fragment"
    }
   },
   "source": [
    "$$\n",
    "        \\Leftrightarrow  \\qquad\\qquad \\qquad \n",
    "    \\begin{pmatrix}\n",
    "        a_{11} & a_{12} &  \\cdots & a_{1N}  \\\\ \n",
    "        a_{21} & a_{22} &  \\cdots & a_{2N}  \\\\ \n",
    "          \\vdots & \\vdots &        & \\vdots \\\\ \n",
    "        a_{N1} & a_{N2} &  \\cdots & a_{NN}  \\\\ \n",
    "    \\end{pmatrix}\n",
    "    \\cdot\n",
    "    \\begin{pmatrix}\n",
    "        x_1 \\\\ x_2 \\\\ \\vdots \\\\ x_N\n",
    "    \\end{pmatrix}\n",
    "    = \n",
    "    \\begin{pmatrix}\n",
    "        b_1 \\\\ b_2 \\\\ \\vdots \\\\ b_N\n",
    "    \\end{pmatrix}\n",
    "$$"
   ]
  },
  {
   "cell_type": "markdown",
   "metadata": {
    "slideshow": {
     "slide_type": "fragment"
    }
   },
   "source": [
    "$$\n",
    "   \\Leftrightarrow \\qquad \\qquad  \\qquad A x = b\n",
    "$$"
   ]
  },
  {
   "cell_type": "markdown",
   "metadata": {
    "slideshow": {
     "slide_type": "subslide"
    }
   },
   "source": [
    "We've done this already in the intro lecture when we solved the 2-point BVP. In Julia this can be done simply via the `\\` operator."
   ]
  },
  {
   "cell_type": "code",
   "execution_count": 17,
   "metadata": {
    "slideshow": {
     "slide_type": "fragment"
    }
   },
   "outputs": [
    {
     "data": {
      "text/plain": [
       "1×10 adjoint(::Vector{Float64}) with eltype Float64:\n",
       " 1072.55  1262.73  -1116.78  -1796.21  …  960.879  -11.4051  -1500.9  669.969"
      ]
     },
     "metadata": {},
     "output_type": "display_data"
    },
    {
     "name": "stdout",
     "output_type": "stream",
     "text": [
      "norm(A * x - b) = 1.3573885636900565e-12\n"
     ]
    }
   ],
   "source": [
    "A, b = rand(10,10), rand(10)    # a random linear system \n",
    "x = A \\ b     # assign solution to `x`\n",
    "display(x')\n",
    "@show norm(A * x - b);"
   ]
  },
  {
   "cell_type": "markdown",
   "metadata": {
    "slideshow": {
     "slide_type": "fragment"
    }
   },
   "source": [
    "Behind the `\\` operator is the so-called LU factorisation, which is the main goal of this lecture."
   ]
  },
  {
   "cell_type": "markdown",
   "metadata": {
    "slideshow": {
     "slide_type": "slide"
    }
   },
   "source": [
    "### Triangular Systems & Backward substitution\n",
    "\n",
    "#### Example\n",
    "\n",
    "$$\\begin{aligned}\n",
    "    4 x_1 + x_2 - 2 x_3 &=  3 \\\\ \n",
    "          2 x_2 - x_3 &= 4 \\\\ \n",
    "                   3 x_3 &= 6      \n",
    "\\end{aligned}$$"
   ]
  },
  {
   "cell_type": "markdown",
   "metadata": {
    "slideshow": {
     "slide_type": "fragment"
    }
   },
   "source": [
    "$$\\begin{aligned}\n",
    "   x_3 &= 2 \\\\ \n",
    "   x_2 &= (4 + x_3)/2 = 3 \\\\ \n",
    "   x_1 &= (3 - x_2 + 2 x_3) / 4 = 1\n",
    "\\end{aligned}$$"
   ]
  },
  {
   "cell_type": "markdown",
   "metadata": {
    "slideshow": {
     "slide_type": "subslide"
    }
   },
   "source": [
    "### General Case\n",
    "\n",
    "$$\\begin{aligned}\n",
    "    a_{11} x_1 + \\cdots + a_{1,N-1} x_{N-1} + a_{1N} x_N &= b_1 \\\\ \n",
    "    & \\vdots \\\\ \n",
    "    a_{N-1,N-1} x_{N-1} + a_{N-1,N} x_N &= b_{N-1} \\\\ \n",
    "    a_{NN} x_N &= b_N \n",
    "\\end{aligned}$$\n",
    "\n",
    "corresponds to $A x = b$ where $A$ is *UPPER TRIANGULAR*: \n",
    "\n",
    "$$\n",
    "  A = \\begin{pmatrix}\n",
    "      * & * &  \\cdots & * &  * \\\\ \n",
    "        & * &  \\cdots & * &  * \\\\ \n",
    "        &   &  \\ddots   & & \\vdots \\\\ \n",
    "        &   &         & *  &  *  \\\\ \n",
    "        &   &          &    & * \n",
    "  \\end{pmatrix}\n",
    "$$"
   ]
  },
  {
   "cell_type": "markdown",
   "metadata": {
    "slideshow": {
     "slide_type": "subslide"
    }
   },
   "source": [
    "$$\\begin{aligned}\n",
    "    a_{11} x_1 + \\cdots + a_{1,N-1} x_{N-1} + a_{1N} x_N &= b_1 \\\\ \n",
    "    & \\vdots \\\\ \n",
    "    a_{N-1,N-1} x_{N-1} + a_{N-1,N} x_N &= b_{N-1} \\\\ \n",
    "    a_{NN} x_N &= b_N \n",
    "\\end{aligned}$$\n",
    "\n",
    "```\n",
    "FOR columns n = N, N-1, ..., 1 DO\n",
    "   x[n] = ( b[n] - sum( A[n, m] * x[m] for m = n+1:N ) ) / A[n,n]\n",
    "END\n",
    "```"
   ]
  },
  {
   "cell_type": "code",
   "execution_count": 18,
   "metadata": {
    "slideshow": {
     "slide_type": "subslide"
    }
   },
   "outputs": [
    {
     "data": {
      "text/plain": [
       "backsubstitution (generic function with 1 method)"
      ]
     },
     "execution_count": 18,
     "metadata": {},
     "output_type": "execute_result"
    }
   ],
   "source": [
    "function backsubstitution(A::UpperTriangular, b::AbstractVector)\n",
    "    N = length(b)\n",
    "    x = zeros(N)\n",
    "    x[N] = b[N] / A[N,N]\n",
    "    for n = N-1:-1:1 \n",
    "        x[n] = (b[n] - sum(A[n,m]*x[m] for m=n+1:N)) / A[n,n]\n",
    "    end\n",
    "    return x\n",
    "end "
   ]
  },
  {
   "cell_type": "code",
   "execution_count": 19,
   "metadata": {
    "slideshow": {
     "slide_type": "fragment"
    }
   },
   "outputs": [
    {
     "name": "stdout",
     "output_type": "stream",
     "text": [
      "Residual: ||A*x-b|| = 9.305364597889227e-16\n"
     ]
    }
   ],
   "source": [
    "A = UpperTriangular(rand(10,10))\n",
    "b = rand(10)\n",
    "x = backsubstitution(A, b)\n",
    "println(\"Residual: ||A*x-b|| = $(norm(A*x-b))\")"
   ]
  },
  {
   "cell_type": "markdown",
   "metadata": {
    "slideshow": {
     "slide_type": "subslide"
    }
   },
   "source": [
    "### Performance Analysis\n",
    "\n",
    "```\n",
    "FOR columns n = N, N-1, ..., 1 DO\n",
    "   x[n] = ( b[n] - sum( A[n, m] * x[m] for m = n+1:N ) ) / A[n,n]\n",
    "END\n",
    "```\n",
    "\n",
    "$$\n",
    "  \\#{\\rm FLOPS} \\approx 1 + 2 + 3 + \\dots + N \\approx N^2\n",
    "$$\n",
    "\n",
    "We will say that \"backsubstituation requires $O(N^2)$ operations. This is the same cost as a matrix-vector multiplication, but much cheaper than a matrix-matrix multiplication $O(N^3)$.\n",
    "\n",
    "**KEY POINT:** If we are given $A$ upper triangular, then $A * x$ and $A^{-1} * x$ have essentially the same quasi-optimal cost. (touch each entry of the matrix once). I.o.w. if we have $A$ then we already have $A^{-1}$."
   ]
  },
  {
   "cell_type": "markdown",
   "metadata": {
    "slideshow": {
     "slide_type": "subslide"
    }
   },
   "source": [
    "### Remark on Julia performance\n",
    "\n",
    "Julia is an incredibly \"democratic\" language. Similar to C, C++, Fortran, \n",
    "etc but very different from Python or Matlab, well-written user code in Julia \n",
    "can be just as fast as core library code. Our code here is not very well-written\n",
    "but it still gets into an ok performance ball-park."
   ]
  },
  {
   "cell_type": "code",
   "execution_count": 20,
   "metadata": {
    "slideshow": {
     "slide_type": "-"
    }
   },
   "outputs": [
    {
     "name": "stdout",
     "output_type": "stream",
     "text": [
      "  Our toy code:  123.194 ns (1 allocation: 144 bytes)\n",
      "Julia built-in:  231.900 ns (1 allocation: 144 bytes)\n"
     ]
    }
   ],
   "source": [
    "using BenchmarkTools\n",
    "N = 10; A = UpperTriangular(rand(N,N)); b = rand(N)\n",
    "print(\"  Our toy code:\" ); @btime backsubstitution($A, $b)\n",
    "print(\"Julia built-in:\" ); @btime ($A\\$b)\n",
    ";"
   ]
  },
  {
   "cell_type": "markdown",
   "metadata": {
    "slideshow": {
     "slide_type": "slide"
    }
   },
   "source": [
    "### Gaussian Elimination\n",
    "\n",
    "We now return to *full* systems, $A x = b$ where $A \\in \\mathbb{F}^{N \\times N}, b \\in \\mathbb{F}^N$. Our goal is to reduce their solution to backsubstitution. This is achieved by performing Gaussian elimination (just like the pen+paper version) but remembering the operations:\n",
    "\n",
    "#### Example\n",
    "\n",
    "$$\n",
    "\\begin{pmatrix}\n",
    "   3 &  -1 & 2 \\\\ \n",
    "   1 & 2 & 3 \\\\ \n",
    "   2 & -2 & -1 \n",
    "\\end{pmatrix}\n",
    "\\cdot \n",
    "\\begin{pmatrix}\n",
    "  x_1 \\\\ x_2 \\\\ x_3 \n",
    "\\end{pmatrix}\n",
    "= \n",
    "\\begin{pmatrix}\n",
    " 12 \\\\ 11 \\\\ 2 \n",
    "\\end{pmatrix} \n",
    "$$"
   ]
  },
  {
   "cell_type": "markdown",
   "metadata": {
    "slideshow": {
     "slide_type": "subslide"
    }
   },
   "source": [
    "$$\n",
    "\\begin{pmatrix}\n",
    "   3 &  -1 & 2 \\\\ \n",
    "   1 & 2 & 3 \\\\ \n",
    "   2 & -2 & -1 \n",
    "\\end{pmatrix}\n",
    "\\cdot \n",
    "\\begin{pmatrix}\n",
    "  x_1 \\\\ x_2 \\\\ x_3 \n",
    "\\end{pmatrix}\n",
    "= \n",
    "\\begin{pmatrix}\n",
    " 12 \\\\ 11 \\\\ 2 \n",
    "\\end{pmatrix}\n",
    "$$\n",
    "* row[2] $\\leftarrow$ row[2] - $\\frac{1}{3}$ row[1]\n",
    "* row[3] $\\leftarrow$ row[3] - $\\frac{2}{3}$ row[1]"
   ]
  },
  {
   "cell_type": "markdown",
   "metadata": {
    "slideshow": {
     "slide_type": "fragment"
    }
   },
   "source": [
    "$$\n",
    "\\begin{pmatrix}\n",
    "   3 &  -1 & 2 \\\\ \n",
    "   0 & 7/3 & 7/3 \\\\ \n",
    "   0 & -4/3 & -7/3 \n",
    "\\end{pmatrix}\n",
    "\\cdot \n",
    "\\begin{pmatrix}\n",
    "  x_1 \\\\ x_2 \\\\ x_3 \n",
    "\\end{pmatrix}\n",
    "= \n",
    "\\begin{pmatrix}\n",
    " 12 \\\\ 7 \\\\ -6\n",
    "\\end{pmatrix} \n",
    "$$"
   ]
  },
  {
   "cell_type": "markdown",
   "metadata": {
    "slideshow": {
     "slide_type": "subslide"
    }
   },
   "source": [
    "$$\n",
    "\\begin{pmatrix}\n",
    "   3 &  -1 & 2 \\\\ \n",
    "   0 & 7/3 & 7/3 \\\\ \n",
    "   0 & -4/3 & -7/3 \n",
    "\\end{pmatrix}\n",
    "\\cdot \n",
    "\\begin{pmatrix}\n",
    "  x_1 \\\\ x_2 \\\\ x_3 \n",
    "\\end{pmatrix}\n",
    "= \n",
    "\\begin{pmatrix}\n",
    " 12 \\\\ 7 \\\\ -6\n",
    "\\end{pmatrix} \n",
    "$$\n",
    "* row[3] $\\leftarrow$ row[3] + $\\frac{4}{7}$ row[2]"
   ]
  },
  {
   "cell_type": "markdown",
   "metadata": {
    "slideshow": {
     "slide_type": "fragment"
    }
   },
   "source": [
    "$$\n",
    "\\begin{pmatrix}\n",
    "   3 &  -1 & 2 \\\\ \n",
    "   0 & 7/3 & 7/3 \\\\ \n",
    "   0 & 0 & -1 \n",
    "\\end{pmatrix}\n",
    "\\cdot \n",
    "\\begin{pmatrix}\n",
    "  x_1 \\\\ x_2 \\\\ x_3 \n",
    "\\end{pmatrix}\n",
    "= \n",
    "\\begin{pmatrix}\n",
    " 12 \\\\ 7 \\\\ -2\n",
    "\\end{pmatrix} \n",
    "$$\n",
    "We have obtained an upper triangular system which we can now solve via backsubstitution!"
   ]
  },
  {
   "cell_type": "markdown",
   "metadata": {
    "slideshow": {
     "slide_type": "subslide"
    }
   },
   "source": [
    "The Gaussian elimination steps are *linear operations on individual columns* and can therefore be represented as a matrix multiplication:"
   ]
  },
  {
   "cell_type": "code",
   "execution_count": 21,
   "metadata": {},
   "outputs": [
    {
     "data": {
      "text/plain": [
       "3×3 Matrix{Int64}:\n",
       " 3  -1   2\n",
       " 1   2   3\n",
       " 2  -2  -1"
      ]
     },
     "execution_count": 21,
     "metadata": {},
     "output_type": "execute_result"
    }
   ],
   "source": [
    "A = [ 3 -1  2 \n",
    "      1  2  3 \n",
    "      2 -2 -1 ]"
   ]
  },
  {
   "cell_type": "code",
   "execution_count": 22,
   "metadata": {
    "slideshow": {
     "slide_type": "fragment"
    }
   },
   "outputs": [
    {
     "data": {
      "text/plain": [
       "3×3 Matrix{Float64}:\n",
       " 3.0  -1.0       2.0\n",
       " 0.0   2.33333   2.33333\n",
       " 0.0  -1.33333  -2.33333"
      ]
     },
     "execution_count": 22,
     "metadata": {},
     "output_type": "execute_result"
    }
   ],
   "source": [
    "L1i = [ 1     0 0\n",
    "        -1/3  1 0 \n",
    "        -2/3  0 1 ]\n",
    "\n",
    "L1i * A"
   ]
  },
  {
   "cell_type": "code",
   "execution_count": 23,
   "metadata": {
    "slideshow": {
     "slide_type": "subslide"
    }
   },
   "outputs": [
    {
     "data": {
      "text/plain": [
       "3×3 Matrix{Float64}:\n",
       " 3.0  -1.0       2.0\n",
       " 0.0   2.33333   2.33333\n",
       " 0.0  -1.33333  -2.33333"
      ]
     },
     "execution_count": 23,
     "metadata": {},
     "output_type": "execute_result"
    }
   ],
   "source": [
    "L1i * A"
   ]
  },
  {
   "cell_type": "code",
   "execution_count": 24,
   "metadata": {
    "slideshow": {
     "slide_type": "fragment"
    }
   },
   "outputs": [
    {
     "data": {
      "text/plain": [
       "3×3 Matrix{Float64}:\n",
       " 3.0          -1.0       2.0\n",
       " 0.0           2.33333   2.33333\n",
       " 2.22045e-16   0.0      -1.0"
      ]
     },
     "execution_count": 24,
     "metadata": {},
     "output_type": "execute_result"
    }
   ],
   "source": [
    "L2i = [ 1  0  0 \n",
    "        0  1  0 \n",
    "        0 4/7 1]\n",
    "U = L2i * L1i *  A "
   ]
  },
  {
   "cell_type": "markdown",
   "metadata": {
    "slideshow": {
     "slide_type": "subslide"
    }
   },
   "source": [
    "We are now very close to an LU factorisation: \n",
    "$$\n",
    "   U := L_2^{-1} L_1^{-1} A\n",
    "$$\n",
    "is upper triangular. "
   ]
  },
  {
   "cell_type": "markdown",
   "metadata": {
    "slideshow": {
     "slide_type": "fragment"
    }
   },
   "source": [
    "Now observe that \n",
    "$$\n",
    "\\begin{pmatrix}\n",
    "    1 &  &  \\\\ \n",
    "    -l_{21} & 1 &  \\\\ \n",
    "    -l_{31}  & 0 &  1 \n",
    "\\end{pmatrix}^{-1} \n",
    "= \n",
    "\\begin{pmatrix}\n",
    "    1 &  &  \\\\ \n",
    "    l_{21} & 1 &  \\\\ \n",
    "    l_{31}  & 0 &  1 \n",
    "\\end{pmatrix}\n",
    "$$\n",
    "and analogously for all $L_n^{-1}$-matrices. "
   ]
  },
  {
   "cell_type": "markdown",
   "metadata": {
    "slideshow": {
     "slide_type": "subslide"
    }
   },
   "source": [
    "Take $L = L_1 L_2 = (L_2^{-1} L_1^{-1})^{-1}$ then we have \n",
    "$$ \n",
    "  L = \n",
    "\\begin{pmatrix}\n",
    "    1 &  &  \\\\ \n",
    "    l_{21} & 1 &  \\\\ \n",
    "    l_{31}  & 0 &  1 \n",
    "\\end{pmatrix}\n",
    "\\cdot \n",
    "\\begin{pmatrix}\n",
    "    1 &  &  \\\\ \n",
    "    0 & 1 &  \\\\ \n",
    "    0  & l_{32} &  1 \n",
    "\\end{pmatrix}\n",
    "= \n",
    "\\begin{pmatrix}\n",
    "    1 &  &  \\\\ \n",
    "    l_{21} & 1 &  \\\\ \n",
    "    l_{31}  & l_{32} &  1 \n",
    "\\end{pmatrix}\n",
    "$$"
   ]
  },
  {
   "cell_type": "code",
   "execution_count": 25,
   "metadata": {
    "slideshow": {
     "slide_type": "fragment"
    }
   },
   "outputs": [
    {
     "data": {
      "text/plain": [
       "3×3 Matrix{Float64}:\n",
       " 0.0  0.0  0.0\n",
       " 0.0  0.0  0.0\n",
       " 0.0  0.0  0.0"
      ]
     },
     "execution_count": 25,
     "metadata": {},
     "output_type": "execute_result"
    }
   ],
   "source": [
    "Li =  L2i * L1i \n",
    "L1 = - L1i + 2*I; L2 = -L2i + 2*I \n",
    "L = L1 * L2 \n",
    "\n",
    "# check that we haven't made a mess! -> now, we have an LU factorisation\n",
    "L * U - A"
   ]
  },
  {
   "cell_type": "markdown",
   "metadata": {
    "slideshow": {
     "slide_type": "slide"
    }
   },
   "source": [
    "## LU Factorisation \n",
    "\n",
    "**Theorem:** If $A \\in \\mathbb{F}^{N \\times N}$ is invertible then there exist\n",
    "* a permutation matrix $P$ \n",
    "* a lower triangular matrix $L$\n",
    "* and an upper triangular matrix $U$\n",
    "such that \n",
    "$$\n",
    "    P A = LU\n",
    "$$\n",
    "\n",
    "*Proof:* see e.g. Süli & Mayers, §4.2. "
   ]
  },
  {
   "cell_type": "markdown",
   "metadata": {
    "slideshow": {
     "slide_type": "subslide"
    }
   },
   "source": [
    "### Why the Permutation Matrix?\n",
    "\n",
    "To prevent division by zero \n",
    "$$ \n",
    "   A = \n",
    "   \\begin{pmatrix}\n",
    "       0 & b \\\\ \n",
    "       a & c\n",
    "   \\end{pmatrix}\n",
    "$$\n",
    "Cannot eliminate $a_{21}$. Instead: \n",
    "$$ \n",
    "   P A = \n",
    "   \\begin{pmatrix}\n",
    "       0 & 1 \\\\ \n",
    "       1 & 0\n",
    "   \\end{pmatrix}\n",
    "    \\cdot \n",
    "   \\begin{pmatrix}\n",
    "       0 & b \\\\ \n",
    "       a & c\n",
    "   \\end{pmatrix}\n",
    "    = \n",
    "   \\begin{pmatrix}\n",
    "       a & c \\\\ \n",
    "       0 & b\n",
    "   \\end{pmatrix}   \n",
    "$$\n",
    "This is called (partial) *pivoting*! The matrix $P$ is never stored, this is just a convenient way to write permutations in the language of linear algebra.  (See also *complete pivoting* which is almost never used!)"
   ]
  },
  {
   "cell_type": "markdown",
   "metadata": {
    "slideshow": {
     "slide_type": "subslide"
    }
   },
   "source": [
    "... but also for numerical stability. (cf. L05 on floating point arithmetic) E.g. if \n",
    "$$\n",
    "   A = \n",
    "   \\begin{pmatrix}\n",
    "       \\epsilon & b \\\\ \n",
    "       a & c\n",
    "   \\end{pmatrix}\n",
    "$$\n",
    "Then \n",
    "$$\n",
    "    L = \n",
    "   \\begin{pmatrix}\n",
    "       1 & 0 \\\\ \n",
    "       a/\\epsilon & 1\n",
    "   \\end{pmatrix},\n",
    "    \\qquad \\qquad\n",
    "    U = \n",
    "   \\begin{pmatrix}\n",
    "       \\epsilon & b \\\\ \n",
    "        0 & c - v/\\epsilon\n",
    "   \\end{pmatrix}    \n",
    "$$\n",
    "\n",
    "We will say more precisely in L05 why $v/\\epsilon$ is problematic. For now, imagine you want $\\epsilon \\to 0$; something surely most go wrong in that limit? "
   ]
  },
  {
   "cell_type": "markdown",
   "metadata": {
    "slideshow": {
     "slide_type": "subslide"
    }
   },
   "source": [
    "But with pivoting: (assuming $a \\gg \\epsilon$)\n",
    "$$ \n",
    "    P = \n",
    "   \\begin{pmatrix}\n",
    "       0 & 1 \\\\ \n",
    "       1 & 0\n",
    "    \\end{pmatrix},\n",
    "    \\qquad \\qquad \n",
    "    %\n",
    "    L = \n",
    "   \\begin{pmatrix}\n",
    "       1 & 0 \\\\ \n",
    "       \\epsilon/a & 1\n",
    "    \\end{pmatrix},    \n",
    "    %\n",
    "    \\qquad \\qquad \n",
    "    U = \n",
    "   \\begin{pmatrix}\n",
    "       a & c \\\\ \n",
    "       0 & b - c/a\n",
    "    \\end{pmatrix}.\n",
    "$$"
   ]
  },
  {
   "cell_type": "markdown",
   "metadata": {
    "slideshow": {
     "slide_type": "subslide"
    }
   },
   "source": [
    "Now we can take the limit $\\epsilon \\to 0$ and everything remains robust in that limit. "
   ]
  },
  {
   "cell_type": "markdown",
   "metadata": {
    "slideshow": {
     "slide_type": "slide"
    }
   },
   "source": [
    "### Sparse matrices\n",
    "\n",
    "**Loose Definition:** A matrix $A \\in \\mathbb{F}^{N \\times M}$ is called *sparse* if the number of non-zero entries is much smaller than $NM$. We will encounter sparse matrices when we cover PDEs, but see also [Sparse Arrays Documentation](https://docs.julialang.org/en/v1/stdlib/SparseArrays/)\n",
    "\n",
    "For example, in our opening lecture we enountered the tri-diagonal matrices\n",
    "$$\n",
    "    A = \n",
    "    \\begin{pmatrix} \n",
    "        a_{11} & a_{12} &   &  & & \\\\ \n",
    "        a_{21} & a_{22} & a_{23} & &  & \\\\ \n",
    "               & a_{32} & a_{33} & a_{34}  &   &  \\\\ \n",
    "               &        &  \\ddots & \\ddots & \\ddots & \n",
    "    \\end{pmatrix}\n",
    "$$\n",
    "In this case the $A = LU$ factorisation can be performed in $O(N)$ operations as long as no pivoting is required! (see exercises/workshops)\n",
    "\n",
    "This is a special case of [*banded matrices*](https://en.wikipedia.org/wiki/Band_matrix); see also [BandedMatrices.jl](https://github.com/JuliaMatrices/BandedMatrices.jl)."
   ]
  },
  {
   "cell_type": "markdown",
   "metadata": {
    "slideshow": {
     "slide_type": "slide"
    }
   },
   "source": [
    "### Conditioning \n",
    "\n",
    "We consider again a linear system \n",
    "$$ \n",
    " A x = b \n",
    "$$\n",
    "But let us now assume that the right-hand side $b$ has an error, i.e. the \"real\" system which we don't know is \n",
    "$$\n",
    " A \\tilde{x} = \\tilde{b}\n",
    "$$\n",
    "How close are $x$ and $\\tilde{x}$?"
   ]
  },
  {
   "cell_type": "markdown",
   "metadata": {
    "slideshow": {
     "slide_type": "fragment"
    }
   },
   "source": [
    "First things first: What do we mean by \"close\"? There is no single correct definition, it is problem-dependent. But in the absence of a specific problem, in our general setting let us just assume that there is some norm $\\|\\cdot\\|$ defined on $\\mathbb{F}^N$. Then we can ask how large is the error $\\| x - \\tilde{x}\\|$? "
   ]
  },
  {
   "cell_type": "markdown",
   "metadata": {
    "slideshow": {
     "slide_type": "subslide"
    }
   },
   "source": [
    "$$\\begin{aligned}\n",
    "    A (x - \\tilde x) &= b - \\tilde b \\\\ \n",
    "    \\| x -  \\tilde x \\| &= \\| A^{-1} (b -  \\tilde b) \\| \n",
    "\\end{aligned}$$\n",
    "\n",
    "But this is too explicit; we want something more generic of the form \n",
    "\n",
    "$$\n",
    "   \\| x -  \\tilde x \\| \\leq C \\| b -  \\tilde b \\|  \n",
    "$$"
   ]
  },
  {
   "cell_type": "markdown",
   "metadata": {
    "slideshow": {
     "slide_type": "fragment"
    }
   },
   "source": [
    "The matrix-norm: \n",
    "$$ \n",
    "    \\| A \\| := \\sup_{x \\neq 0} \\frac{ \\| A x \\|}{\\|x\\|} \n",
    "         = \\sup_{\\|x \\| =  1} \\|Ax\\|\n",
    "$$"
   ]
  },
  {
   "cell_type": "markdown",
   "metadata": {
    "slideshow": {
     "slide_type": "fragment"
    }
   },
   "source": [
    "Then we obtain \n",
    "$$\n",
    "    \\| x - \\tilde x\\| \\leq \\| A^{-1} \\| \\| b - \\tilde b\\|\n",
    "$$ "
   ]
  },
  {
   "cell_type": "markdown",
   "metadata": {
    "slideshow": {
     "slide_type": "subslide"
    }
   },
   "source": [
    "Now the relative error:  $A \\tilde x = \\tilde b$, \n",
    "$$ \n",
    "    \\| \\tilde b \\| \\leq \\|A \\| \\, \\|\\tilde x \\| \n",
    "$$"
   ]
  },
  {
   "cell_type": "markdown",
   "metadata": {
    "slideshow": {
     "slide_type": "fragment"
    }
   },
   "source": [
    "$$\n",
    "    \\frac{\\| x - \\tilde x\\|}{\\|\\tilde x \\|} \\leq \\frac{\\| A^{-1} \\| \\| b - \\tilde b\\|}{ \\| \\tilde x \\| }\n",
    "    \\leq \\| A \\| \\, \\| A^{-1} \\| \\frac{\\|b - \\tilde b \\|}{\\| \\tilde b\\|}.\n",
    "$$ "
   ]
  },
  {
   "cell_type": "markdown",
   "metadata": {
    "slideshow": {
     "slide_type": "fragment"
    }
   },
   "source": [
    "**Definition:** $\\kappa(A) := \\|A\\| \\| A^{-1} \\|$. Note that this definition is norm-dependent. If a norm is not explicitly specified then we normally understand $\\|\\cdot\\| = \\|\\cdot\\|_2$\n",
    "\n",
    "**Proposition:** \n",
    "$$ \n",
    "        \\frac{\\| x - \\tilde x\\|}{\\|\\tilde x \\|} \\leq \n",
    "        \\kappa(A) \n",
    "        \\frac{\\|b - \\tilde b \\|}{\\| \\tilde b\\|}\n",
    "$$\n",
    "\n",
    "In Julia we can use the function `cond` to compute the condition number. "
   ]
  },
  {
   "cell_type": "markdown",
   "metadata": {
    "slideshow": {
     "slide_type": "slide"
    }
   },
   "source": [
    "## Other Useful Factorisations\n",
    "\n",
    "* LU Factorisation: $P A = L U$\n",
    "* Cholesky Factorisations: $A = L L^*$ for hermitian positive definite matrices  (Julia: `cholesky`)\n",
    "* LDL factorisation: $A = L D L^*$ for hermitian matrices (Julia: `ldlt`)\n",
    "* QR factorisation: $A = Q R$ with $Q$ orthogonal, $R$ upper triangular, for solving least-squares systems (Julia: `qr`)\n",
    "* singular value decomposition: $A = U \\Sigma V^*$  (Julia: `svd`) \n",
    "* eigen decomposition: $A = V \\Lambda V^{-1}$  (Julia: `eigen`)\n",
    "\n",
    "[... and many others ...](https://en.wikipedia.org/wiki/Matrix_decomposition)"
   ]
  },
  {
   "cell_type": "markdown",
   "metadata": {
    "slideshow": {
     "slide_type": "slide"
    }
   },
   "source": [
    "### Quick Review of the Eigendecomposition\n",
    "\n",
    "Let $A \\in \\mathbb{C}^{N \\times N}$ then with say $(\\lambda, v) \\in \\mathbb{C} \\times \\mathbb{C}^N$, $v \\neq 0$, is an eigen-pair (eigenvalue, eigenvector) of $A$ if \n",
    "\n",
    "$$\n",
    "    A v = \\lambda v\n",
    "$$\n",
    "\n",
    "The set of eigenvalues is called the spectrum of $A$ and denoted $\\sigma(A)$."
   ]
  },
  {
   "cell_type": "markdown",
   "metadata": {
    "slideshow": {
     "slide_type": "subslide"
    }
   },
   "source": [
    "* If $(\\lambda_i, v_i)$ are eigenpairs and $\\lambda_i$ distinct, then the $v_i$ are linearly independent.\n",
    "* In particular if $A$ has $N$ distinct eigenvalues, $\\lambda_1, \\dots, \\lambda_N$ then \n",
    "$$\n",
    "    A = V \\Lambda V^{-1}, \\qquad \\Lambda = {\\rm diag}(\\lambda_i), \\quad V = [v_1 \\dots v_N].\n",
    "$$\n",
    "This is called the eigendecomposition. \n",
    "\n",
    "In general, if there exists an invertible $V \\in \\mathbb{C}^{N \\times N}$ and a diagonal $\\Lambda$ such that $A = V \\Lambda V^{-1}$ then we say that $A$ is diagonalisable."
   ]
  },
  {
   "cell_type": "code",
   "execution_count": 26,
   "metadata": {
    "slideshow": {
     "slide_type": "subslide"
    }
   },
   "outputs": [
    {
     "data": {
      "text/plain": [
       "1.2893684472100066e-14"
      ]
     },
     "execution_count": 26,
     "metadata": {},
     "output_type": "execute_result"
    }
   ],
   "source": [
    "A = rand(100, 100)\n",
    "F = eigen(A)\n",
    "# extract the first eigenpair\n",
    "λ1 = F.values[1]\n",
    "v1 = F.vectors[:,1]\n",
    "norm(A * v1 - λ1 * v1)"
   ]
  },
  {
   "cell_type": "code",
   "execution_count": 27,
   "metadata": {
    "slideshow": {
     "slide_type": "fragment"
    }
   },
   "outputs": [
    {
     "data": {
      "text/plain": [
       "1.7397341002330037e-13"
      ]
     },
     "execution_count": 27,
     "metadata": {},
     "output_type": "execute_result"
    }
   ],
   "source": [
    "# Or we can compute A * V - V * Λ\n",
    "norm(A * F.vectors - F.vectors * Diagonal(F.values))"
   ]
  },
  {
   "cell_type": "markdown",
   "metadata": {
    "slideshow": {
     "slide_type": "subslide"
    }
   },
   "source": [
    "We will often encounter real symmetric matrices, which have a very nice property: \n",
    "\n",
    "**Proposition:** \n",
    "* If $A \\in \\mathbb{R}^{N \\times N}$ is symmetric, or $A \\in \\mathbb{C}^{N \\times N}$ is hermitian, then $A$ has real eigenvalues and orthogonal eigenvectors. \n",
    "* Equivalently, $A = Q \\Lambda Q^*$ with $\\Lambda = {\\rm diag}(\\lambda_i)$, $\\lambda_i \\in \\mathbb{R}$ and $Q^* Q = Q Q^* = I$.\n",
    "* Equivalently, there exists an orthonormal basis $\\{q_n\\}$ of $\\mathbb{R}^N$ and $\\lambda_n \\in \\mathbb{R}$ such that \n",
    " $$\n",
    "     A = \\sum_{n = 1}^N \\lambda_n q_n q_n^*\n",
    " $$\n",
    " \n",
    " Proof: see separate notes\n",
    " \n",
    " Note: $Q^*$ = adjoint = transpose+conjugate"
   ]
  },
  {
   "cell_type": "markdown",
   "metadata": {
    "slideshow": {
     "slide_type": "subslide"
    }
   },
   "source": [
    "**Definition:** More generally we call a matrix $A \\in \\mathbb{C}^{N \\times N}$ *normal* if $A^* A = A A^*$. \n",
    "\n",
    "This definition is particularly important for differential operators, many of which are normal. "
   ]
  },
  {
   "cell_type": "markdown",
   "metadata": {
    "slideshow": {
     "slide_type": "fragment"
    }
   },
   "source": [
    "**Proposition:** If $A$ is normal then $A = Q \\Lambda Q^*$ with $\\Lambda$ complex diagonal and $Q^* Q = Q Q^* = I$; i.e., $A$ has a (complex) orthonormal eigenbasis (the columns of $Q$)."
   ]
  },
  {
   "cell_type": "code",
   "execution_count": 28,
   "metadata": {
    "slideshow": {
     "slide_type": "subslide"
    }
   },
   "outputs": [
    {
     "name": "stdout",
     "output_type": "stream",
     "text": [
      "σ = [-1.84, -0.87, -0.64, -0.46, 0.09, 0.36, 1.46, 1.54, 2.11, 10.61]\n",
      "||QQ' - I|| = 7.879919857778448e-15\n",
      "||Q * Λ * Q' - A|| = 1.2346458762832218e-14\n"
     ]
    }
   ],
   "source": [
    "A = rand(10, 10)\n",
    "A = A + A' \n",
    "F = eigen(A)\n",
    "println(\"σ = \", round.(F.values, digits=2))\n",
    "println(\"||QQ' - I|| = \", norm(F.vectors * F.vectors' - I))\n",
    "println(\"||Q * Λ * Q' - A|| = \", norm(F.vectors * Diagonal(F.values) * F.vectors' - A))"
   ]
  },
  {
   "cell_type": "markdown",
   "metadata": {
    "slideshow": {
     "slide_type": "subslide"
    }
   },
   "source": [
    "**Applications:**\n",
    "\n",
    "Let $A \\in \\mathbb{C}^{N \\times N}$ normal, $A = Q \\Lambda Q^*$, then \n",
    "* $A^{-1} = Q \\Lambda^{-1} Q^*$ \n",
    "* $\\| A \\| = \\max_n |\\lambda_n|$  (cf exercise)\n",
    "* $\\| A^{-1} \\| = \\max_n |\\lambda_n^{-1}| = (\\min_n |\\lambda_n|)^{-1}$ \n",
    "* So for the condition number we get \n",
    "$$\n",
    "    \\kappa(A) = \\frac{\\max_n |\\lambda_n|}{\\min_n |\\lambda_n|}\n",
    "$$\n",
    "(In practice a better method to compute $\\kappa$ is the SVD! Indeed, for a normal matrix, $|\\lambda_n|$ are the singular values!)\n",
    "\n",
    "Recall that $\\kappa = \\|A\\| \\|A^{-1}\\|$ and $\\|A\\| = \\max_{\\|x\\|_2 = 1} \\| A x \\|_2$"
   ]
  }
 ],
 "metadata": {
  "@webio": {
   "lastCommId": null,
   "lastKernelId": null
  },
  "author": "x",
  "celltoolbar": "Slideshow",
  "kernelspec": {
   "display_name": "Julia 1.7.3",
   "language": "julia",
   "name": "julia-1.7"
  },
  "language_info": {
   "file_extension": ".jl",
   "mimetype": "application/julia",
   "name": "julia",
   "version": "1.7.3"
  },
  "latex_envs": {
   "LaTeX_envs_menu_present": true,
   "autoclose": false,
   "autocomplete": true,
   "bibliofile": "biblio.bib",
   "cite_by": "apalike",
   "current_citInitial": 1,
   "eqLabelWithNumbers": true,
   "eqNumInitial": 1,
   "hotkeys": {
    "equation": "Ctrl-E",
    "itemize": "Ctrl-I"
   },
   "labels_anchors": false,
   "latex_user_defs": false,
   "report_style_numbering": false,
   "user_envs_cfg": false
  }
 },
 "nbformat": 4,
 "nbformat_minor": 4
}
