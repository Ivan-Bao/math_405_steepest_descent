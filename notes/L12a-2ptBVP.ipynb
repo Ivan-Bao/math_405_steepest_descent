{
 "cells": [
  {
   "cell_type": "markdown",
   "metadata": {
    "slideshow": {
     "slide_type": "slide"
    }
   },
   "source": [
    "# MATH 405/607 \n",
    "\n",
    "# Numerical Methods for Differential Equations\n",
    "\n",
    "[[Instructor: Christoph Ortner]](http://www.math.ubc.ca/~ortner/)  [[course page]](https://github.com/cortner/math405_2022)\n",
    "\n",
    "## ODE Boundary Value Problem\n",
    "\n",
    "or, 2-point bvp."
   ]
  },
  {
   "cell_type": "code",
   "execution_count": null,
   "metadata": {
    "slideshow": {
     "slide_type": "-"
    }
   },
   "outputs": [],
   "source": [
    "include(\"math405.jl\")"
   ]
  },
  {
   "cell_type": "markdown",
   "metadata": {
    "slideshow": {
     "slide_type": "slide"
    }
   },
   "source": [
    "### The simplest boundary value problem:\n",
    "\n",
    "$$\\begin{aligned}\n",
    "- u''(x) + r(x) u(x) &= f(x), \\qquad x \\in (0, 1) \\\\ \n",
    "  u(0) &= u_0, \\\\ \n",
    "  u(1) &= u_1\n",
    "\\end{aligned}$$\n",
    "\n",
    "- Does a solution exist? \n",
    "- Under which conditions on $r, f$ does a solution exist?\n",
    "- Is it unique? Stable under perturbations of $r, f$?\n",
    "\n",
    "One can show that if $f, r$ are \"smooth\" then a \"smooth\" solution $u$ exists.\n",
    "\n",
    "- How do we compute it?"
   ]
  },
  {
   "cell_type": "markdown",
   "metadata": {
    "slideshow": {
     "slide_type": "subslide"
    }
   },
   "source": [
    "We can make our life particularly easy, \n",
    "\n",
    "$$\\begin{aligned}\n",
    "- u''(x) + u(x) &= 1, \\qquad x \\in (0, 1) \\\\ \n",
    "  u(0) &= 0, \\\\ \n",
    "  u(1) &= 0\n",
    "\\end{aligned}$$\n",
    "\n",
    "Then we can readily check that the following is a solution:\n",
    "\n",
    "$$\n",
    "   u(x) = 1 - \\frac{e^x + e^{1-x}}{1+e}\n",
    "$$\n",
    "\n",
    "* Question: Why can we get such a simple analytic solution?\n",
    "* Challenge: is it unique? If yes, provide a proof; if not, provide a counterexample."
   ]
  },
  {
   "cell_type": "code",
   "execution_count": null,
   "metadata": {
    "slideshow": {
     "slide_type": "subslide"
    }
   },
   "outputs": [],
   "source": [
    "# Plotting the solution \n",
    "u(x) = 1 -  (exp(x) + exp(1-x)) / (1 + MathConstants.e)\n",
    "plot(u, 0, 1, lw=3, label = \"u(x)\", size = (400, 200))"
   ]
  },
  {
   "cell_type": "markdown",
   "metadata": {
    "slideshow": {
     "slide_type": "slide"
    }
   },
   "source": [
    "### Discretising the solution \n",
    "\n",
    "We cannot store $u$ in a computer (infinite information), but we could store it (or an approximation) at finitely many points, \n",
    "\n",
    "$$\n",
    "        x_n = n/N, \\qquad n = 0, \\dots, N.\n",
    "$$\n",
    "\n",
    "which are called nodes, mesh, or grid points, etc.\n",
    "We call $h = 1/N$ the mesh-size or grid-size. We can evaluate $U_n = u(x_n)$ which give us a discretisation of the the solution."
   ]
  },
  {
   "cell_type": "code",
   "execution_count": null,
   "metadata": {
    "slideshow": {
     "slide_type": "fragment"
    }
   },
   "outputs": [],
   "source": [
    "N = 10; X = range(0, 1, length=N+1)\n",
    "scatter(X, 0*X, size = (600, 80), label = \"grid\")\n",
    "plot!(u, 0, 1, lw=2, label = \"continuous solution\")\n",
    "scatter!(X, u.(X), ms=5, label = \"discretisation\", size = (800, 200), legend=:outertopright)"
   ]
  },
  {
   "cell_type": "markdown",
   "metadata": {
    "slideshow": {
     "slide_type": "slide"
    }
   },
   "source": [
    "### Discretising the equation \n",
    "\n",
    "But what if we don't know the solution explicitly? This is the *typical* scenario!\n",
    "\n",
    "The idea is to devise an equation for the *discretised solution*. The first step is to evaluate the equation only at the nodes \n",
    "\n",
    "$$\n",
    "   - u''(x_n) + r(x_n) u(x_n) = f(x_n) \n",
    "$$\n",
    "\n",
    "By evaluating the data $f, r$ at the nodes, $F_n = f(x_n)$ and $R_n = r(x_n)$, we obtain \n",
    "\n",
    "$$\n",
    "  - u''(x_n) + R_n U_n = F_n\n",
    "  $$\n",
    "  \n",
    "What to do about $u''(x_n)$?"
   ]
  },
  {
   "cell_type": "markdown",
   "metadata": {
    "slideshow": {
     "slide_type": "subslide"
    }
   },
   "source": [
    "### Finite Difference Approximation\n",
    "\n",
    "Taylor expansion:\n",
    "\n",
    "$$\n",
    "    u(x+h) = u(x) + h u'(x) + \\frac{h^2}{2} u''(x) + \\frac{h^3}{6} u'''(x) + \\frac{h^4}{24} u^{(iv)}(\\xi)\n",
    "$$"
   ]
  },
  {
   "cell_type": "markdown",
   "metadata": {
    "slideshow": {
     "slide_type": "fragment"
    }
   },
   "source": [
    "From this we can deduce, e.g., \n",
    "\n",
    "$$\\begin{aligned}\n",
    "    \\frac{u(x+h) - u(x)}{h} &= u'(x) + \\frac{h}{2} u''(x) + \\dots \\\\ \n",
    "    \\frac{u(x+h) - 2u(x) + h(x-h)}{h^2} &=  u''(x) + O(h^2)\n",
    "\\end{aligned}$$\n",
    "\n",
    "Can we replace $u''$ with its FD approximation?"
   ]
  },
  {
   "cell_type": "markdown",
   "metadata": {
    "slideshow": {
     "slide_type": "subslide"
    }
   },
   "source": [
    "This gives us\n",
    "\n",
    "$$\n",
    "    - \\frac{u(x_n+h) - 2 u(x_n) + u(x_{n}-h)}{h^2} + r(x_n) u(x_n) = f(x_n), \n",
    "$$\n",
    "\n",
    "But if we choose $h = 1/N$ (we did) then $u(x_n \\pm h) = U_{n \\pm 1}$, so we can write  a linear system for the *unknowns* $U_n$, $n = 0, \\dots, N$:\n",
    "\n",
    "$$\\begin{aligned}\n",
    "    - \\frac{U_{n+1} - 2 U_n + U_{n-1}}{h^2} + R_n U_n  &= F_n, \\quad n = 1, \\dots, N-1, \\\\ \n",
    "    U_0 &= u_0, \\\\ \n",
    "    U_1 &= u_1.\n",
    "\\end{aligned}$$\n",
    "\n",
    "(Note for the toy model we just have $u_0 = u_1 = 0, R_n = F_n = 1$.)"
   ]
  },
  {
   "cell_type": "markdown",
   "metadata": {
    "slideshow": {
     "slide_type": "slide"
    }
   },
   "source": [
    "### Implementation of the FD Scheme\n",
    "\n",
    "<!-- $$\n",
    "\\frac{1}{h^2} \\begin{pmatrix}\n",
    "    h^2 &  &  &  &        \\\\\n",
    "    -1 & 2 + h^2 & -1  &  &      \\\\\n",
    "       & -1 & 2 + h^2 & -1  &     \\\\\n",
    "       &    &  \\ddots & \\ddots & \\ddots\n",
    "\\end{pmatrix}\n",
    " \\cdot \n",
    " \\begin{pmatrix}\n",
    "        U_0 \\\\ U_1 \\\\ U_2 \\\\ \\vdots\n",
    " \\end{pmatrix}\n",
    " = \n",
    " \\begin{pmatrix}\n",
    "     0 \\\\ 1 \\\\ 1 \\\\ \\vdots \n",
    " \\end{pmatrix}\n",
    "$$\n",
    "-->\n",
    "\n",
    "$$\n",
    "\\begin{pmatrix}\n",
    "    1 &  &  &  &        \\\\\n",
    "    - h^{-2} & 2 h^{-2} + 1 & - h^{-2}  &  &      \\\\\n",
    "       & -h^{-2} & 2 h^{-2} + 1 & - h^{-2}  &     \\\\\n",
    "       &    &  \\ddots & \\ddots & \\ddots\n",
    "\\end{pmatrix}\n",
    " \\cdot \n",
    " \\begin{pmatrix}\n",
    "        U_0 \\\\ U_1 \\\\ U_2 \\\\ \\vdots\n",
    " \\end{pmatrix}\n",
    " = \n",
    " \\begin{pmatrix}\n",
    "     0 \\\\ 1 \\\\ 1 \\\\ \\vdots \n",
    " \\end{pmatrix}\n",
    "$$\n",
    "\n",
    "after eliminating the first and last row (which are trivia) we get the following system:"
   ]
  },
  {
   "cell_type": "markdown",
   "metadata": {
    "slideshow": {
     "slide_type": "fragment"
    }
   },
   "source": [
    "$$\n",
    "\\begin{pmatrix}\n",
    "       2 h^{-2} + 1 & - h^{-2}  &  &      \\\\\n",
    "       -h^{-2} & 2 h^{-2} + 1 & - h^{-2}  &     \\\\\n",
    "          &  \\ddots & \\ddots & \\ddots\n",
    "\\end{pmatrix}\n",
    " \\cdot \n",
    " \\begin{pmatrix}\n",
    "        U_1 \\\\ U_2 \\\\ \\vdots\n",
    " \\end{pmatrix}\n",
    " = \n",
    " \\begin{pmatrix}\n",
    "      1 \\\\ 1 \\\\ \\vdots \n",
    " \\end{pmatrix}\n",
    "$$"
   ]
  },
  {
   "cell_type": "markdown",
   "metadata": {
    "slideshow": {
     "slide_type": "subslide"
    }
   },
   "source": [
    "$$\n",
    "\\begin{pmatrix}\n",
    "       2 h^{-2} + 1 & - h^{-2}  &  &      \\\\\n",
    "       -h^{-2} & 2 h^{-2} + 1 & - h^{-2}  &     \\\\\n",
    "          &  \\ddots & \\ddots & \\ddots\n",
    "\\end{pmatrix}\n",
    " \\cdot \n",
    " \\begin{pmatrix}\n",
    "        U_1 \\\\ U_2 \\\\ \\vdots\n",
    " \\end{pmatrix}\n",
    " = \n",
    " \\begin{pmatrix}\n",
    "      1 \\\\ 1 \\\\ \\vdots \n",
    " \\end{pmatrix}\n",
    "$$\n",
    "\n",
    "... which we can now implement:"
   ]
  },
  {
   "cell_type": "code",
   "execution_count": null,
   "metadata": {},
   "outputs": [],
   "source": [
    "function assemble_fd(N)\n",
    "    h = 1/N\n",
    "    F = ones(N-1)\n",
    "    A = Tridiagonal( - ones(N-2) / h^2 , \n",
    "                     (2/h^2+1)*ones(N-1),\n",
    "                     - ones(N-2) / h^2 )\n",
    "    return A, F \n",
    "end"
   ]
  },
  {
   "cell_type": "code",
   "execution_count": null,
   "metadata": {
    "slideshow": {
     "slide_type": "subslide"
    }
   },
   "outputs": [],
   "source": [
    "N = 10 \n",
    "A, F =  assemble_fd(10)\n",
    "display(A)\n",
    "display(F)"
   ]
  },
  {
   "cell_type": "markdown",
   "metadata": {
    "slideshow": {
     "slide_type": "subslide"
    }
   },
   "source": [
    "### Solution of the linear system \n",
    "\n",
    "To solve `A * U = F` we use a black box solver provided by Julia, which can be invoked via \n",
    "```\n",
    "U = A \\ F\n",
    "```\n",
    "Behind the scenes this uses an LU factorisation. Because $A$ is tridiagonal, **AND** we told Julia that it is tri-diagonal the cost of the LU factorisatin will be $O(N)$ only - i.e. quasi-optimal!"
   ]
  },
  {
   "cell_type": "code",
   "execution_count": null,
   "metadata": {
    "slideshow": {
     "slide_type": "subslide"
    }
   },
   "outputs": [],
   "source": [
    "N = 10 \n",
    "A, F = assemble_fd(N)\n",
    "U = [ [0.0]; A \\ F; [0.0] ] \n",
    "\n",
    "X = range(0, 1, length=N+1)\n",
    "plot(u, 0, 1, lw=3, label = \"exact solution\", size = (700, 300), legend = :outertopright)\n",
    "scatter!(X, U, marker = :dot, ms=6, lw=2, ls=:dash, label = \"FD approximation\")\n",
    "maxerr = norm(u.(X) - U, Inf)\n",
    "# println(\"Error: $(maxerr); this is very good!\")\n",
    "plot!(; title = latexstring(\"\\\\max_j  |u(x_j) - U_j| = $(round(maxerr, digits=7))\"))"
   ]
  },
  {
   "cell_type": "markdown",
   "metadata": {
    "slideshow": {
     "slide_type": "slide"
    }
   },
   "source": [
    "### Error Analysis\n",
    "\n",
    "We have changed \n",
    "- how we represent the solution: a discrete set of points instead of a continuous function;\n",
    "- how we represent the equation: a finite-difference equation instead of a differential equation.\n",
    "\n",
    "Naturally, the question arises in what sense we can talk about error, and what that error is. This is one of the major topics of numerical analysis and scientific computing."
   ]
  },
  {
   "cell_type": "markdown",
   "metadata": {
    "slideshow": {
     "slide_type": "subslide"
    }
   },
   "source": [
    "In our last computational experiment we have implicitly adopted a seemingly sensible notion of error of our finite-difference solution. And we have shown that it is *remarkably* accurate; ca. 0.1% error which is already far better than typical engineering accuracy. This can be explained rigorously: "
   ]
  },
  {
   "cell_type": "markdown",
   "metadata": {
    "slideshow": {
     "slide_type": "fragment"
    }
   },
   "source": [
    "\n",
    "**Theorem:** Let $r > 0$ then \n",
    "$$\n",
    "    \\max_{n = 0, \\dots, N} |U_n - u(x_n)| \\leq \\frac{h^2}{96} \\| u^{(4)} \\|_{\\infty}         \n",
    "$$\n"
   ]
  },
  {
   "cell_type": "markdown",
   "metadata": {
    "slideshow": {
     "slide_type": "slide"
    }
   },
   "source": [
    "But we should now also confirm numerically that our result is (i) correct; and (ii) sharp. With a little bit of basic calculus we can show that $\\|u^{(iv)}\\|_\\infty = 1$. Therefore the estimate becomes $\\|E\\|_\\infty \\leq h^2 / 96$."
   ]
  },
  {
   "cell_type": "code",
   "execution_count": null,
   "metadata": {
    "slideshow": {
     "slide_type": "fragment"
    }
   },
   "outputs": [],
   "source": [
    "get_maxerr(N) = norm( u.(range(0, 1,length=N+1)) - [[0.0]; \\(assemble_fd(N)...); [0.0]], Inf )\n",
    "\n",
    "NN = [8, 16, 32, 64, 128]\n",
    "plot( NN, get_maxerr.(NN), lw=3, m=:o, ms=6, label = L\"\\| U - u \\|_\\infty\", \n",
    "      xaxis = :log, yaxis = :log, size=(400,300))\n",
    "plot!( NN, NN.^(-2) / 96, lw=2, ls=:dash, label = \"predicted rate\" )"
   ]
  },
  {
   "cell_type": "markdown",
   "metadata": {
    "slideshow": {
     "slide_type": "slide"
    }
   },
   "source": [
    "### Warning: Advection-Diffusion\n",
    "\n",
    "Consider an Advection-diffusion problem\n",
    "\n",
    "$$\\begin{aligned}\n",
    "    - \\varepsilon u''(x) + u'(x) = 1, \\quad u(0) = u(1) = 0\n",
    "\\end{aligned}$$\n",
    "\n",
    "discretised via \n",
    "\n",
    "$$\n",
    "    - \\varepsilon \\frac{U_{n+1} - 2 U_n + U_{n-1}}{h^2} + \\frac{U_{n+1} - U_{n-1}}{2h} = 1\n",
    "$$\n"
   ]
  },
  {
   "cell_type": "code",
   "execution_count": null,
   "metadata": {
    "slideshow": {
     "slide_type": "subslide"
    }
   },
   "outputs": [],
   "source": [
    "N = 20; epsn = 0.01; o = ones(N-1)  # try epsn = 1, 0.1, 0.01, then N = 30, 100\n",
    "F = [ [0.0]; o; [0.0] ]\n",
    "A = Tridiagonal( [ (-epsn*N^2 - 0.5*N) * o; [0.0] ], \n",
    "                 [ [1.0]; (2*epsn*N^2) * o; [1.0] ], \n",
    "                 [ [0.0]; (- epsn*N^2 + 0.5*N) * o] )\n",
    "plot(x -> x - (exp(x/epsn)-1)/(exp(1/epsn)-1), 0, 1, lw=3, label = \"exact\", legend = :topleft)\n",
    "plot!(range(0, 1, length=N+1), A \\ F, lw=3, ms=5, label =\"FD approx\", size=(400,200))"
   ]
  },
  {
   "cell_type": "markdown",
   "metadata": {},
   "source": [
    "**Question:** what part of our analysis fails here?  What do we need to do now to prove convergence?"
   ]
  }
 ],
 "metadata": {
  "@webio": {
   "lastCommId": null,
   "lastKernelId": null
  },
  "celltoolbar": "Slideshow",
  "kernelspec": {
   "display_name": "Julia 1.7.3",
   "language": "julia",
   "name": "julia-1.7"
  },
  "language_info": {
   "file_extension": ".jl",
   "mimetype": "application/julia",
   "name": "julia",
   "version": "1.7.3"
  },
  "latex_envs": {
   "LaTeX_envs_menu_present": true,
   "autoclose": false,
   "autocomplete": true,
   "bibliofile": "biblio.bib",
   "cite_by": "apalike",
   "current_citInitial": 1,
   "eqLabelWithNumbers": true,
   "eqNumInitial": 1,
   "hotkeys": {
    "equation": "Ctrl-E",
    "itemize": "Ctrl-I"
   },
   "labels_anchors": false,
   "latex_user_defs": false,
   "report_style_numbering": false,
   "user_envs_cfg": false
  }
 },
 "nbformat": 4,
 "nbformat_minor": 4
}
