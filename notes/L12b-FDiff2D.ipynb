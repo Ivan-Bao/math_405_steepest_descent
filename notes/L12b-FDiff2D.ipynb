{
 "cells": [
  {
   "cell_type": "markdown",
   "metadata": {
    "slideshow": {
     "slide_type": "slide"
    }
   },
   "source": [
    "# MATH 405/607 \n",
    "\n",
    "# Numerical Methods for Differential Equations\n",
    "\n",
    "[[Instructor: Christoph Ortner]](http://www.math.ubc.ca/~ortner/)  [[course page]](https://github.com/cortner/math405_2022)\n",
    "\n",
    "# Implementation of Finite-Difference Schemes in 2D, 3D\n"
   ]
  },
  {
   "cell_type": "markdown",
   "metadata": {
    "slideshow": {
     "slide_type": "slide"
    }
   },
   "source": [
    "We will restrict attention to the $d$-dimensional Laplace equation, \n",
    "$$\\begin{aligned}\n",
    "    -\\Delta u = f, \\qquad x \\in \\Omega, \\\\ \n",
    "        u = 0, & x \\in \\partial \\Omega,\n",
    "\\end{aligned}$$\n",
    "where $\\Omega$ is a domain in $\\mathbb{R}^d$ and $\\partial\\Omega$ denotes its boundary. \n",
    "\n",
    "Implementing finite-difference schemes for general domains is possible but requires a large number of \"tricks\", hence we will restrict ourselves only to tensor-product domains, e.g., the unit cube\n",
    "$$\n",
    "    \\Omega := (0, 1)^d\n",
    "$$\n",
    "but other tensor-product domains are equally easy to treat."
   ]
  },
  {
   "cell_type": "markdown",
   "metadata": {
    "slideshow": {
     "slide_type": "subslide"
    }
   },
   "source": [
    "The main idea is to exploit the tensor product structure of the Laplace operator, e.g., if $d = 2$, \n",
    "$$\n",
    "    \\Delta u = \\frac{\\partial^2 u}{\\partial x_1^2}  + \\frac{\\partial^2 u}{\\partial x_2^2} \n",
    "     = \\Big( D^2 \\otimes I + I \\otimes D^2 \\Big) u,\n",
    "$$\n",
    "where $D$ denotes the univariate derivative operator. Suppose now that $D^2_h$ denotes a univariate finite difference discretisation of $D^2$ then the resulting finite-difference discretisation of the laplace operator becomes \n",
    "$$\n",
    "    \\Delta_h u = \\Big( D_h^2 \\otimes I + I \\otimes D_h^2 \\Big) u.\n",
    "$$\n"
   ]
  },
  {
   "cell_type": "markdown",
   "metadata": {
    "slideshow": {
     "slide_type": "subslide"
    }
   },
   "source": [
    "Let us consider the case we are most interested in, \n",
    "$$\n",
    "    D_h^2 V_n = \\frac{V_{n+1} - 2 V_n + V_{n-1}}{h^2}\n",
    "$$\n",
    "and assume that $U_{nm}$ is a 2-dimensional grid function, then \n",
    "$$\\begin{aligned}\n",
    "    \\big(D_h^2 \\otimes I\\big) U_{nm} &= \\frac{U_{n+1,m} - 2 U_{nm} + U_{n-1,m}}{h^2}, \\\\ \n",
    "    \\big(I \\otimes D_h^2\\big) U_{nm} &= \\frac{U_{n,m+1} - 2 U_{nm} + U_{n,m-1}}{h^2}, \\\\ \n",
    "\\end{aligned}$$\n",
    "and hence \n",
    "$$\n",
    "    \\Delta_h U_{nm} = \\big(D_h^2 \\otimes I + I \\otimes D_h^2\\big) U_{nm} = \n",
    "    \\frac{U_{n+1,m} + U_{n,m+1} + U_{n-1,m} + U_{n,m-1}  - 4 U_{nm} }{h^2}.\n",
    "$$\n",
    "One can readily check exactly as in the univariate case that, if $u_{nm} = u(nh, mh)$ then \n",
    "$$\n",
    "    \\Delta_h u_{nm} = \\Delta u_{nm} + O(h^2).\n",
    "$$"
   ]
  },
  {
   "cell_type": "markdown",
   "metadata": {
    "slideshow": {
     "slide_type": "subslide"
    }
   },
   "source": [
    "The generalisation to $d$ dimensions is \n",
    "$$\n",
    "    \\Delta_hU_{{\\bf n}} = \\sum_{i = 1}^d \\frac{U_{{\\bf n} + {\\bf e}_i} - 2 U_{{\\bf n}} + U_{{\\bf n} - {\\bf e}_i}}{h^2}\n",
    "    = \\Big( D_h^2 \\otimes I \\otimes \\cdots \\otimes I\n",
    "            + I \\otimes D_h^2 \\otimes I \\otimes \\cdots \\otimes I\n",
    "            + \\cdots\n",
    "            + I \\otimes \\cdots \\otimes I \\otimes D_h^2 \\Big) U_{{\\bf n}}.\n",
    "$$"
   ]
  },
  {
   "cell_type": "code",
   "execution_count": null,
   "metadata": {
    "slideshow": {
     "slide_type": "slide"
    }
   },
   "outputs": [],
   "source": [
    "include(\"math405.jl\")"
   ]
  },
  {
   "cell_type": "code",
   "execution_count": null,
   "metadata": {
    "slideshow": {
     "slide_type": "slide"
    }
   },
   "outputs": [],
   "source": [
    "# this implementation uses dirichlet boundary conditions only.\n",
    "L1d(N) = Tridiagonal(-N^2 * ones(N-2), 2*N^2*ones(N-1), -N^2*ones(N-2))\n",
    "Id(N) = sparse(I, (N-1,N-1))\n",
    "L2d(N) = sparse(kron(L1d(N), Id(N)) + kron(Id(N), L1d(N)))\n",
    "L3d(N) = sparse(kron(L1d(N), Id(N), Id(N)) + kron(Id(N), L1d(N), Id(N)) + kron(Id(N), Id(N), L1d(N)))"
   ]
  },
  {
   "cell_type": "code",
   "execution_count": null,
   "metadata": {
    "slideshow": {
     "slide_type": "fragment"
    }
   },
   "outputs": [],
   "source": [
    "display(L1d(5))"
   ]
  },
  {
   "cell_type": "code",
   "execution_count": null,
   "metadata": {
    "slideshow": {
     "slide_type": "subslide"
    }
   },
   "outputs": [],
   "source": [
    "display(Matrix(L2d(5)))"
   ]
  },
  {
   "cell_type": "code",
   "execution_count": null,
   "metadata": {
    "slideshow": {
     "slide_type": "subslide"
    }
   },
   "outputs": [],
   "source": [
    "N = 20 \n",
    "# solve the laplace equation - Δu = 1\n",
    "L = L2d(20)\n",
    "F = ones(size(L,1))\n",
    "U = L \\ F;"
   ]
  },
  {
   "cell_type": "code",
   "execution_count": null,
   "metadata": {
    "slideshow": {
     "slide_type": "fragment"
    }
   },
   "outputs": [],
   "source": [
    "# postprocess for plotting; use plotly backend to manipulate the plot\n",
    "Plots.gr(); # Plots.plotly()\n",
    "U0 = zeros(N+1, N+1) \n",
    "U0[2:N, 2:N] = reshape(U, (N-1, N-1))\n",
    "x = range(0, 1, length = N+1)\n",
    "surface(x, x, U0)"
   ]
  },
  {
   "cell_type": "code",
   "execution_count": null,
   "metadata": {
    "slideshow": {
     "slide_type": "subslide"
    }
   },
   "outputs": [],
   "source": [
    "Plots.gr()\n",
    "# contour(x, x, U0; size = (300, 300), lw=3, colorbar=false) \n",
    "contourf(x, x, U0; size = (300, 300), lw=1, colorbar=false) # or contour\n",
    "# contourf(x, x, U0; size = (300, 300), lw=0, colorbar=false, levels=100) # or contour"
   ]
  },
  {
   "cell_type": "markdown",
   "metadata": {
    "slideshow": {
     "slide_type": "slide"
    }
   },
   "source": [
    "The convergence theory / error analysis for the $d$-dimensional setting is essentially equivalant to the one-dimensional one. I.e. we can prove that \n",
    "\n",
    "$$\n",
    "    \\| U - u \\|_\\infty \\leq C h^2.\n",
    "$$\n",
    "\n",
    "Let's check this numerically via the method of manufactured solutions: If we take $u(x_1, x_2) = \\sin(\\pi x_1) \\sin(\\pi x_2)$, then we have $- \\Delta u = \\pi^2 u$."
   ]
  },
  {
   "cell_type": "code",
   "execution_count": null,
   "metadata": {
    "slideshow": {
     "slide_type": "subslide"
    }
   },
   "outputs": [],
   "source": [
    "function get_err(N)\n",
    "    ufun = (x1, x2) -> sin(pi*x1)*sin(pi*x2)\n",
    "    X = range(0, 1, length=N+1) * ones(N+1)'\n",
    "    u = ufun.(X, X')\n",
    "    F = 2*pi^2 * u[2:N,2:N]    \n",
    "    U = L2d(N) \\ F[:]\n",
    "    return norm(u[2:N,2:N][:] - U, Inf)\n",
    "end "
   ]
  },
  {
   "cell_type": "code",
   "execution_count": null,
   "metadata": {
    "slideshow": {
     "slide_type": "fragment"
    }
   },
   "outputs": [],
   "source": [
    "NN = (2).^(3:7); err = get_err.(NN)\n",
    "plot(NN.^(-1), err, lw=3, ms = 5, m = :o, label = \"error\", xscale = :log10, yscale = :log10, size = (500, 300))\n",
    "plot!(NN[3:end].^(-1), NN[3:end].^(-2), lw=2, ls=:dash, c=:black, label = \"h^2\", legend = :topleft)"
   ]
  },
  {
   "cell_type": "markdown",
   "metadata": {
    "slideshow": {
     "slide_type": "slide"
    }
   },
   "source": [
    "### Warning: \n",
    "\n",
    "**The cost of sparse direct solvers does not scale will with dimension!!** "
   ]
  },
  {
   "cell_type": "code",
   "execution_count": null,
   "metadata": {
    "slideshow": {
     "slide_type": "fragment"
    }
   },
   "outputs": [],
   "source": [
    "NN_timings = (2).^(2:9)\n",
    "timings_direct = zeros(3, length(NN_timings))\n",
    "for (iN, N) in enumerate(NN_timings), (d, Lfun) in enumerate((L1d, L2d, L3d))\n",
    "    if (N > 2^5 && d == 3) || (N > 2^7 && d == 2); timings_direct[d, iN] = NaN; continue; end \n",
    "    timings_direct[d, iN] = (@elapsed (Lfun(N) \\ ones((N-1)^d)))\n",
    "end"
   ]
  },
  {
   "cell_type": "code",
   "execution_count": null,
   "metadata": {
    "slideshow": {
     "slide_type": "subslide"
    }
   },
   "outputs": [],
   "source": [
    "P = plot(; size = (400, 300), yscale = :log10, xscale = :log10, legend = :outertopright, ylims = (5e-7, 3e1)) \n",
    "C = [3e-6, 1e-7, 1e-9]; pred = [1, 3, 6]; NN = NN_timings[2:end]\n",
    "for d = 1:3\n",
    "    plot!(NN, timings_direct[d, 2:end], c = d, label = \"d = $d\", lw=3, ms=6, m=:o)\n",
    "    plot!(NN, C[d] * NN.^pred[d], c=d, ls=:dash, label = \"\", lw=2)\n",
    "end\n",
    "plot!()"
   ]
  },
  {
   "cell_type": "markdown",
   "metadata": {
    "slideshow": {
     "slide_type": "fragment"
    }
   },
   "source": [
    "### OUTLOOK\n",
    "\n",
    "numerical solution of large linear systems: \n",
    "- Krylov methods\n",
    "- preconditioning \n",
    "- multigrid methods"
   ]
  }
 ],
 "metadata": {
  "celltoolbar": "Slideshow",
  "kernelspec": {
   "display_name": "Julia 1.7.3",
   "language": "julia",
   "name": "julia-1.7"
  },
  "language_info": {
   "file_extension": ".jl",
   "mimetype": "application/julia",
   "name": "julia",
   "version": "1.7.3"
  }
 },
 "nbformat": 4,
 "nbformat_minor": 4
}
