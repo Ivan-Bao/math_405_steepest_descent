{
 "cells": [
  {
   "cell_type": "code",
   "execution_count": null,
   "id": "0c6d58c9-ed3b-4c45-b4b6-39482f7470bf",
   "metadata": {},
   "outputs": [],
   "source": []
  }
 ],
 "metadata": {
  "kernelspec": {
   "display_name": "Julia 1.7.3",
   "language": "julia",
   "name": "julia-1.7"
  },
  "language_info": {
   "file_extension": ".jl",
   "mimetype": "application/julia",
   "name": "julia",
   "version": "1.7.3"
  }
 },
 "nbformat": 4,
 "nbformat_minor": 5
}
