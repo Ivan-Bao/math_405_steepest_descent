{
 "cells": [
  {
   "cell_type": "markdown",
   "metadata": {},
   "source": [
    "* Before you turn this problem in, make sure everything runs as expected. First, **restart the kernel** (in the menubar, select Kernel$\\rightarrow$Restart) and then **run all cells** (in the menubar, select Cell$\\rightarrow$Run All). Or, alternatively, **Restart & Run All**.\n",
    "\n",
    "* Make sure you fill in any place that says `YOUR CODE HERE` or \"YOUR ANSWER HERE\".\n",
    "\n",
    "* You can always add additional cells to the notebook to experiment, to test your answers, or to provide additional support for your answers.\n",
    "\n",
    "* You should not need to install new packages to complete an assignment. If you use any packages not available via the provided `Project.toml`, or if you change the `Manifest.toml`, then your assignment will likely not be graded correctly.\n",
    "\n",
    "* Submissions are only accepted via CANVAS!\n",
    "\n",
    "* Late submissions will not be accepted and receive 0%. There will be no exceptions.\n",
    "\n",
    "* By entering your name below you confirm that you have completed this assignment on your own. Suspicion of plagiarism / copying may result in an ad hoc oral examination on the content of the assignment. I may then downgrade an assignment. "
   ]
  },
  {
   "cell_type": "code",
   "execution_count": null,
   "metadata": {},
   "outputs": [],
   "source": [
    "NAME = \"\""
   ]
  },
  {
   "cell_type": "markdown",
   "metadata": {},
   "source": [
    "---"
   ]
  },
  {
   "cell_type": "markdown",
   "metadata": {
    "deletable": false,
    "editable": false,
    "nbgrader": {
     "cell_type": "markdown",
     "checksum": "e9cd726d18bfe306143ba6404f471c59",
     "grade": false,
     "grade_id": "cell-ee3a7657e48f9546",
     "locked": true,
     "schema_version": 3,
     "solution": false,
     "task": false
    }
   },
   "source": [
    "# MATH 405/607 \n",
    "\n",
    "# Numerical Methods for Differential Equations\n",
    "\n",
    "## Assignment 1\n",
    "\n",
    "This assignment is intended to solidify our usage of Julia, Jupyter, latex, and for some review. We continue our review of Taylor's theorem, explore floating point arithmetic a bit, and finally some elementary linear algebra and numerical linear algebra. Please review A0 before completing this.\n",
    "\n",
    "* This assignment counts towards 7% of your total grade."
   ]
  },
  {
   "cell_type": "code",
   "execution_count": null,
   "metadata": {
    "deletable": false,
    "editable": false,
    "nbgrader": {
     "cell_type": "code",
     "checksum": "33c13cf615077f2750dae558f3937ee3",
     "grade": false,
     "grade_id": "cell-6fcded2fc78a089d",
     "locked": true,
     "schema_version": 3,
     "solution": false,
     "task": false
    }
   },
   "outputs": [],
   "source": [
    "include(\"math405.jl\")"
   ]
  },
  {
   "cell_type": "markdown",
   "metadata": {
    "deletable": false,
    "editable": false,
    "nbgrader": {
     "cell_type": "markdown",
     "checksum": "a70a045dd1bc9bbcf02effd62ae99d1e",
     "grade": false,
     "grade_id": "cell-2fd06d570ed5ddcf",
     "locked": true,
     "schema_version": 3,
     "solution": false,
     "task": false
    }
   },
   "source": [
    "### Review from A0\n",
    "\n",
    "Let $f : \\mathbb{R} \\to \\mathbb{R}$ be smooth (as often differentiable as needed). Write down the expression for the $n$th degree Taylor polynomial $T_n(x)$ expanded around $0$.\n",
    "\n",
    "**Solution:**\n",
    "$$\n",
    "    T_n(x) = f(0) + x f'(0) + \\frac{x^2}{2} f''(0) + \\dots + \\frac{x^n}{n!} f^{(n)}(0)\n",
    "$$\n",
    "\n",
    "Let $R_n(x)$ be the remainder, i.e. $f(x) = T_n(x) + R_n(x)$. Look up the Lagrange form of the remainder as well as the integral form of the remainder and write them down.\n",
    "\n",
    "**Solution:**\n",
    "$$\\begin{aligned}\n",
    "    R_n^L(x) &= \\frac{x^{n+1}}{(n+1)!} f^{(n+1)}(\\xi),  \\\\ \n",
    "    R_n^I(x) &= \\int_0^x \\frac{f^{(n+1)}(t)}{n!} (x-t)^n dt\n",
    "\\end{aligned}$$\n",
    "where $\\xi$ lies between $0$ and $x$."
   ]
  },
  {
   "cell_type": "markdown",
   "metadata": {
    "deletable": false,
    "editable": false,
    "nbgrader": {
     "cell_type": "markdown",
     "checksum": "7866eeb42c54dc80363ca4921db6c003",
     "grade": false,
     "grade_id": "cell-ad340e057328addd",
     "locked": true,
     "schema_version": 3,
     "solution": false,
     "task": false
    }
   },
   "source": [
    "### Question 1 [5+5]\n",
    "\n",
    "(a) Consider the centered finite-difference formula \n",
    "$$\n",
    "    \\frac{f(x+h) - f(x-h)}{2h} \\approx f'(x)\n",
    "$$\n",
    "Prove that it is second-order accurate by deriving a sharp error bound in terms of $h$ and $\\|f^{(j)}\\|_\\infty$ where you should determine $j$. \n",
    "\n",
    "(b) Construct a finite-difference approximation for the third derivative $f'''(x)$. "
   ]
  },
  {
   "cell_type": "markdown",
   "metadata": {
    "deletable": false,
    "nbgrader": {
     "cell_type": "markdown",
     "checksum": "e6b26fd6755539786f4cb295570d34d5",
     "grade": true,
     "grade_id": "cell-4e484d74e3be2204",
     "locked": false,
     "points": 10,
     "schema_version": 3,
     "solution": true,
     "task": false
    }
   },
   "source": [
    "YOUR ANSWER HERE"
   ]
  },
  {
   "cell_type": "markdown",
   "metadata": {
    "deletable": false,
    "editable": false,
    "nbgrader": {
     "cell_type": "markdown",
     "checksum": "16ed6cb1104d0bb8c56cd74bd610bff5",
     "grade": false,
     "grade_id": "cell-aab338196ed4b143",
     "locked": true,
     "schema_version": 3,
     "solution": false,
     "task": false
    }
   },
   "source": [
    "### Question 2 [5+5+10]\n",
    "\n",
    "Consider the function $f(x) = \\exp(x)$, evaluated in floating point arithmetic. Suppose we wish to approximate its first derivative $f'(x) = \\exp(x)$ by a finite difference. \n",
    "\n",
    "(a) For the forward difference, a floating point analysis (see class) yields \n",
    "$$\n",
    "    {\\rm fl}\\Big[ \\frac{f(x+h) - f(x)}{h} \\Big] = f'(x) + O(h) + O(\\epsilon h^{-1}).\n",
    "$$\n",
    "Write down the analogous result for the centered finite difference from Question 1a. (Don't write down the proof, only the result.)\n",
    "\n",
    "(b) For `Float64` precision $\\epsilon \\approx 10^{-16}$ (cf. `eps(Float64)` in Julia) How would you choose $h$? How would you choose $h$ for `Float32` precision? Give answers for both the one-sided and the centered finite difference. "
   ]
  },
  {
   "cell_type": "markdown",
   "metadata": {
    "deletable": false,
    "nbgrader": {
     "cell_type": "markdown",
     "checksum": "6fc76019fc0f9a3dc4fcfeda884918ce",
     "grade": true,
     "grade_id": "cell-15139c091529b8cf",
     "locked": false,
     "points": 10,
     "schema_version": 3,
     "solution": true,
     "task": false
    }
   },
   "source": [
    "YOUR ANSWER HERE"
   ]
  },
  {
   "cell_type": "markdown",
   "metadata": {
    "deletable": false,
    "editable": false,
    "nbgrader": {
     "cell_type": "markdown",
     "checksum": "171f9dad43adeae5773da595b8c67528",
     "grade": false,
     "grade_id": "cell-2fbf95d46438c61b",
     "locked": true,
     "schema_version": 3,
     "solution": false,
     "task": false
    }
   },
   "source": [
    "(c) Produce a figure or table that clearly demonstrates the behaviour derived in (a, b) and in particular confirms your prediction of the optimal choice of $h$. You can restrict this to just `Float64` accuracy.\n",
    "\n",
    "Hints: (1) use the code from class and adapt it. You can use `vlines!` to add vertical lines to the plot which you could use to highlight the theoretical (quasi-)optimal choice of $h$. \n",
    "(2) it would be a good time investment right now to go read the documentation of [Plots.jl](https://docs.juliaplots.org/stable/) to learn what is doable to make high-quality plots."
   ]
  },
  {
   "cell_type": "code",
   "execution_count": null,
   "metadata": {
    "deletable": false,
    "nbgrader": {
     "cell_type": "code",
     "checksum": "ffa9732a265ee42118b0058a1f8dc9b9",
     "grade": true,
     "grade_id": "cell-294220ee607d28f8",
     "locked": false,
     "points": 10,
     "schema_version": 3,
     "solution": true,
     "task": false
    }
   },
   "outputs": [],
   "source": [
    "# YOUR CODE HERE"
   ]
  },
  {
   "cell_type": "markdown",
   "metadata": {
    "deletable": false,
    "editable": false,
    "nbgrader": {
     "cell_type": "markdown",
     "checksum": "ab85dad546af3abb909eafd9649f635b",
     "grade": false,
     "grade_id": "cell-b13bc18813644137",
     "locked": true,
     "schema_version": 3,
     "solution": false,
     "task": false
    }
   },
   "source": [
    "In all subsequent questions: $\\mathbb{F} \\in \\{ \\mathbb{R}, \\mathbb{C}\\}$."
   ]
  },
  {
   "cell_type": "markdown",
   "metadata": {
    "deletable": false,
    "editable": false,
    "nbgrader": {
     "cell_type": "markdown",
     "checksum": "5e35fc68e34ed64d706c836ef78166d3",
     "grade": false,
     "grade_id": "cell-2dad2c372bf9982f",
     "locked": true,
     "schema_version": 3,
     "solution": false,
     "task": false
    }
   },
   "source": [
    "### Question3 [5+5+5]\n",
    "\n",
    "(a) Construct a right-hand side $b$ such that the system \n",
    "$$ \n",
    "   A x = b, \\qquad \\text{where} \\quad \n",
    "   A = \\begin{pmatrix}\n",
    "       2 & 1 & 0 & 2 \\\\ \n",
    "       3 & 1 & 1 & 4 \\\\ \n",
    "       4 & 1 & 2 & 6 \\\\ \n",
    "       5 & 1 & 3 & 8 \n",
    "   \\end{pmatrix}\n",
    "$$\n",
    "has no solution. In the solution cell enter this right-hand side as \n",
    "```julia \n",
    "b = [ # insert elements\n",
    "```\n",
    "\n",
    "(b) For $b = 0$ compute the set of all solutions to the system in (a) (i.e. the null-space of the system matrix). In the solution cell, enter your solution as a matrix\n",
    "```julia \n",
    "N = # enter the definition of the null space \n",
    "```\n",
    "such that the columns `N[:, i]` span the space of all solutions.\n",
    "\n",
    "(c) For the system that you derived in (a) which has no solution, compute the \"regularised least squares solution\" i.e. \n",
    "$$\n",
    "    x = \\arg\\min \\| A x - b \\|^2 + \\|x\\|^2\n",
    "$$\n",
    "In the solution cell, enter this solution as \n",
    "```julia \n",
    "x = # enter the definition of the solution   \n",
    "```\n",
    "Note: you will need to derive a linear system solved by $x$ and then solve that linear system."
   ]
  },
  {
   "cell_type": "code",
   "execution_count": null,
   "metadata": {
    "deletable": false,
    "nbgrader": {
     "cell_type": "code",
     "checksum": "2a7afbf9321c3ad1ec9569d6e27002a1",
     "grade": false,
     "grade_id": "cell-cc228c3143f579d4",
     "locked": false,
     "schema_version": 3,
     "solution": true,
     "task": false
    }
   },
   "outputs": [],
   "source": [
    "A = [ 2 1 0 2\n",
    "      3 1 1 4\n",
    "      4 1 2 6\n",
    "      5 1 3 8 ]\n",
    "\n",
    "# YOUR CODE HERE"
   ]
  },
  {
   "cell_type": "code",
   "execution_count": null,
   "metadata": {
    "deletable": false,
    "editable": false,
    "nbgrader": {
     "cell_type": "code",
     "checksum": "3417df2f2d00c7dde9e7ff979f660528",
     "grade": true,
     "grade_id": "cell-0e2c6e3f1db1838b",
     "locked": true,
     "points": 15,
     "schema_version": 3,
     "solution": false,
     "task": false
    }
   },
   "outputs": [],
   "source": []
  },
  {
   "cell_type": "markdown",
   "metadata": {
    "deletable": false,
    "editable": false,
    "nbgrader": {
     "cell_type": "markdown",
     "checksum": "04dbe4741b9c5f118189d873cbfc95c1",
     "grade": false,
     "grade_id": "cell-83151558c15a9a0d",
     "locked": true,
     "schema_version": 3,
     "solution": false,
     "task": false
    }
   },
   "source": [
    "### Question 4 [5+5]\n",
    "\n",
    "Find out how to use Julia's LU factorisation `lu` with *AND WITHOUT* partial pivoting, and find out how to compute the condition number of a matrix.\n",
    "\n",
    "The codes `system1()` and `system2()` below will produce two linear systems.  Solve them with and without pivoting, then print the norm of the residual, $\\|A x - b\\|$ and comment on your observations. How is the result related to the condition numbers? To the system size?\n",
    "\n",
    "(5 points for code + 5 points for discussion)"
   ]
  },
  {
   "cell_type": "code",
   "execution_count": null,
   "metadata": {
    "deletable": false,
    "nbgrader": {
     "cell_type": "code",
     "checksum": "fd2cca6bd347571f0d880e93fa64b1e9",
     "grade": true,
     "grade_id": "cell-55aec68999869425",
     "locked": false,
     "points": 5,
     "schema_version": 3,
     "solution": true,
     "task": false
    }
   },
   "outputs": [],
   "source": [
    "Random.seed!(2)\n",
    "\n",
    "system1() = randn(500, 500), randn(500)\n",
    "\n",
    "function system2()\n",
    "    A = randn(500,500)\n",
    "    for n = 1:500\n",
    "        A[n,n] *= 1e-12\n",
    "    end \n",
    "    b = randn(500)\n",
    "    return A, b \n",
    "end\n",
    "\n",
    "# YOUR CODE HERE"
   ]
  },
  {
   "cell_type": "markdown",
   "metadata": {
    "deletable": false,
    "nbgrader": {
     "cell_type": "markdown",
     "checksum": "bfe6360840d7595104f75465eb89728e",
     "grade": true,
     "grade_id": "cell-dadf4f50eba0b90b",
     "locked": false,
     "points": 5,
     "schema_version": 3,
     "solution": true,
     "task": false
    }
   },
   "source": [
    "YOUR ANSWER HERE"
   ]
  },
  {
   "cell_type": "markdown",
   "metadata": {
    "deletable": false,
    "editable": false,
    "nbgrader": {
     "cell_type": "markdown",
     "checksum": "6b4dc3c2c38d301fe2e9b99eba4b2fff",
     "grade": false,
     "grade_id": "cell-fba7362a8e59d387",
     "locked": true,
     "schema_version": 3,
     "solution": false,
     "task": false
    }
   },
   "source": [
    "### Question 5 [5+10]\n",
    "\n",
    "The *entropy* (measure of disorder / randomness) for a multivariate Gaussian distribution with covariance $\\Sigma$ is given by \n",
    "$$\n",
    "    S = \\log\\det\\Sigma\n",
    "$$\n",
    "In this question we will come up with an efficient and numerically stable algorithm to compute this.\n",
    "\n",
    "(a) Observe the result of the following naive simulation and in the cell below explain what you have observed, relating it to properties of `Float64` floating point arithmetic.\n",
    "\n"
   ]
  },
  {
   "cell_type": "code",
   "execution_count": null,
   "metadata": {
    "deletable": false,
    "editable": false,
    "nbgrader": {
     "cell_type": "code",
     "checksum": "deb719ba47c808ea5840948d9abe9c06",
     "grade": false,
     "grade_id": "cell-ed1403c446ab14dd",
     "locked": true,
     "schema_version": 3,
     "solution": false,
     "task": false
    }
   },
   "outputs": [],
   "source": [
    "Random.seed!(0)\n",
    "for N in (2).^(4:10)\n",
    "    A = randn(N, N)  # random matrix\n",
    "    A = A * A'       # symmetric and positive definite, hence det(A) > 0\n",
    "    @show log(det(A))\n",
    "end    "
   ]
  },
  {
   "cell_type": "code",
   "execution_count": null,
   "metadata": {},
   "outputs": [],
   "source": [
    "# use this cell to experiment\n"
   ]
  },
  {
   "cell_type": "markdown",
   "metadata": {
    "deletable": false,
    "nbgrader": {
     "cell_type": "markdown",
     "checksum": "69474d78741fcb175baf753788070e1e",
     "grade": true,
     "grade_id": "cell-c84ba081d25f1c5a",
     "locked": false,
     "points": 5,
     "schema_version": 3,
     "solution": true,
     "task": false
    },
    "slideshow": {
     "slide_type": "slide"
    }
   },
   "source": [
    "YOUR ANSWER HERE"
   ]
  },
  {
   "cell_type": "markdown",
   "metadata": {
    "deletable": false,
    "editable": false,
    "nbgrader": {
     "cell_type": "markdown",
     "checksum": "093efa216dffce0afca661b38cebba65",
     "grade": false,
     "grade_id": "cell-e0b3568f2efc68b6",
     "locked": true,
     "schema_version": 3,
     "solution": false,
     "task": false
    }
   },
   "source": [
    "Question 5 continued ... \n",
    "\n",
    "(b) Devise an algorithm to evaluate $\\log \\det A$ when $A$ is symmetric and positive definite, which does not suffer from the problem in part (a). Implement it as a `function mylogdet(A)` which should return the result. \n",
    "\n",
    "HINT: Consider an eigenvalue decomposition, or the LU or the Cholesky factorisation."
   ]
  },
  {
   "cell_type": "code",
   "execution_count": null,
   "metadata": {
    "deletable": false,
    "nbgrader": {
     "cell_type": "code",
     "checksum": "c24bb533b7109ea7c81770129373a8c1",
     "grade": false,
     "grade_id": "cell-8e928a8431930662",
     "locked": false,
     "schema_version": 3,
     "solution": true,
     "task": false
    }
   },
   "outputs": [],
   "source": [
    "function mylogdet(A)\n",
    "# YOUR CODE HERE\n",
    "end"
   ]
  },
  {
   "cell_type": "code",
   "execution_count": null,
   "metadata": {
    "deletable": false,
    "editable": false,
    "nbgrader": {
     "cell_type": "code",
     "checksum": "f67436eab08955479bbd2bad7118cc55",
     "grade": true,
     "grade_id": "cell-067350467b42919a",
     "locked": true,
     "points": 5,
     "schema_version": 3,
     "solution": false,
     "task": false
    }
   },
   "outputs": [],
   "source": []
  },
  {
   "cell_type": "markdown",
   "metadata": {
    "deletable": false,
    "editable": false,
    "nbgrader": {
     "cell_type": "markdown",
     "checksum": "b46dd7c22ec3af6f031177aa45bc884e",
     "grade": false,
     "grade_id": "cell-56592db75fdfbf15",
     "locked": true,
     "schema_version": 3,
     "solution": false,
     "task": false
    }
   },
   "source": [
    "When you have completed all tasks, please click on `[Kernel]` and then `[Restart & Run All]` to make sure that your answers reproduce correctly when running from a clean notebook with no hidden variables left over from editing. Once you have convinced yourself that it is all in order, please download and submit the notebook to CANVAS."
   ]
  }
 ],
 "metadata": {
  "@webio": {
   "lastCommId": null,
   "lastKernelId": null
  },
  "kernelspec": {
   "display_name": "Julia 1.7.3",
   "language": "julia",
   "name": "julia-1.7"
  },
  "language_info": {
   "file_extension": ".jl",
   "mimetype": "application/julia",
   "name": "julia",
   "version": "1.7.3"
  }
 },
 "nbformat": 4,
 "nbformat_minor": 4
}
