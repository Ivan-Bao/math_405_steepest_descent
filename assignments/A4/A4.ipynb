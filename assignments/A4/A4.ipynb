{
 "cells": [
  {
   "cell_type": "markdown",
   "id": "d85c17c2",
   "metadata": {},
   "source": [
    "* Before you turn this problem in, make sure everything runs as expected. First, **restart the kernel** (in the menubar, select Kernel$\\rightarrow$Restart) and then **run all cells** (in the menubar, select Cell$\\rightarrow$Run All). Or, alternatively, **Restart & Run All**.\n",
    "\n",
    "* Make sure you fill in any place that says `YOUR CODE HERE` or \"YOUR ANSWER HERE\".\n",
    "\n",
    "* You can always add additional cells to the notebook to experiment, to test your answers, or to provide additional support for your answers.\n",
    "\n",
    "* You should not need to install new packages to complete an assignment. If you use any packages not available via the provided `Project.toml`, or if you change the `Manifest.toml`, then your assignment will likely not be graded correctly.\n",
    "\n",
    "* Submissions are only accepted via CANVAS!\n",
    "\n",
    "* Late submissions will not be accepted and receive 0%. There will be no exceptions.\n",
    "\n",
    "* By entering your name below you confirm that you have completed this assignment on your own. Suspicion of plagiarism / copying may result in an ad hoc oral examination on the content of the assignment. I may then downgrade an assignment. "
   ]
  },
  {
   "cell_type": "code",
   "execution_count": null,
   "id": "95f5670d",
   "metadata": {},
   "outputs": [],
   "source": [
    "STUDENTID = \"\""
   ]
  },
  {
   "cell_type": "markdown",
   "id": "f7ae495f",
   "metadata": {},
   "source": [
    "---"
   ]
  },
  {
   "cell_type": "markdown",
   "id": "64a03499",
   "metadata": {
    "deletable": false,
    "editable": false,
    "nbgrader": {
     "cell_type": "markdown",
     "checksum": "818e18f0da360f0741ce0f6cf1076a4d",
     "grade": false,
     "grade_id": "cell-8af992bc1a8f2b32",
     "locked": true,
     "schema_version": 3,
     "solution": false,
     "task": false
    }
   },
   "source": [
    "# MATH 405/607 \n",
    "\n",
    "# Numerical Methods for Differential Equations\n",
    "\n",
    "## Assignment 4: Finite difference methods for BVPs and IBVPs\n",
    "\n",
    "\n",
    "* This assignment will be worth 10% of the overall grade.\n",
    "* You must submit both an `.ipynb` notebook **AND** a PDF generated from that notebook that contains all output."
   ]
  },
  {
   "cell_type": "code",
   "execution_count": null,
   "id": "5691debb",
   "metadata": {
    "deletable": false,
    "editable": false,
    "nbgrader": {
     "cell_type": "code",
     "checksum": "966dbe30fb14b37639a491804d3f2279",
     "grade": false,
     "grade_id": "cell-546cde3c6fe74c25",
     "locked": true,
     "schema_version": 3,
     "solution": false,
     "task": false
    }
   },
   "outputs": [],
   "source": [
    "include(\"math405.jl\")"
   ]
  },
  {
   "cell_type": "markdown",
   "id": "7c6bc559",
   "metadata": {
    "deletable": false,
    "editable": false,
    "nbgrader": {
     "cell_type": "markdown",
     "checksum": "3487ccbb9dbcf5b8ea7a1bb9acd9cc0f",
     "grade": false,
     "grade_id": "cell-a14a1d94e19d3217",
     "locked": true,
     "schema_version": 3,
     "solution": false,
     "task": false
    }
   },
   "source": [
    "### Question 1: A 'singularly perturbed' advection-diffusion problem [5+5+5]\n",
    "\n",
    "Consider the boundary value problem\n",
    "$$\\begin{aligned}\n",
    "   u_x - \\epsilon u_{xx} &= 1, \\qquad x \\in (0, 1) \\\\ \n",
    "   u(0) &= u(1) = 0.\n",
    "\\end{aligned}$$\n",
    "\n",
    "You may use, without proof, that the unique solution is given by \n",
    "$$\n",
    "    u(x) =  x - \\frac{e^{x/\\epsilon} - 1}{e^{1/\\epsilon} - 1}\n",
    "$$\n",
    "\n",
    "(a) Discretise the domain with $x_n = n h$, $h = 1/N$, $n = 0, \\dots, N$, then formulate a finite-difference discretisation of the BVP, using a centered finite-difference approximation for $u_x$ (cf. A1)\n",
    "\n",
    "(b) Define the *truncation error* $T_n$ for your discretisation. \n",
    "\n",
    "<!-- (c) Estimate the trunction error $T_n$ in terms of $h$ and derivatives of $u$. Note: You can reuse results from the lectures and from A1.\n",
    " -->\n",
    "If defined correctly, the truncation error $T_n$ will satisfy \n",
    "$$\n",
    "|T_n| \\leq C h^2 \\big( \\| u_{xxx} \\|_\\infty + \\epsilon  \\| u_{xxxx} \\|_{\\infty} \\big) \n",
    "$$\n",
    "You need not prove this. (However it would be a good exercise to do so.)\n",
    " \n",
    "(c) Estimate the truncation error $T_n$ in terms of $h$ and $\\epsilon$. Suppose we want to achieve some tolerance $c \\tau$ with some unknown constant $c$. Given $\\epsilon$, how should we choose $h$? I.e., how should we balance $h$ and $\\epsilon$?\n",
    "\n",
    "(Hint: from the exact solution above we can bound $\\| u^{(j)} \\|_\\infty \\leq 2\\epsilon^{-j}$ for $j \\geq 2$, where $u^{(j)}$ denotes the $j$-th derivative of $u$) "
   ]
  },
  {
   "cell_type": "markdown",
   "id": "0077a02f",
   "metadata": {
    "deletable": false,
    "nbgrader": {
     "cell_type": "markdown",
     "checksum": "386e3789190c9e110321742458ea32d0",
     "grade": true,
     "grade_id": "cell-bc9931d083b6b991",
     "locked": false,
     "points": 15,
     "schema_version": 3,
     "solution": true,
     "task": false
    }
   },
   "source": [
    "YOUR ANSWER HERE"
   ]
  },
  {
   "cell_type": "markdown",
   "id": "1ded7c7c",
   "metadata": {
    "deletable": false,
    "editable": false,
    "nbgrader": {
     "cell_type": "markdown",
     "checksum": "2aab77c00be50edac2a9b357f546b105",
     "grade": false,
     "grade_id": "cell-f584e804823da329",
     "locked": true,
     "schema_version": 3,
     "solution": false,
     "task": false
    }
   },
   "source": [
    "### Question 1 continued [5] \n",
    "\n",
    "(d) Implement the method derived in Question 1 (a) as a function taking the parameters $N, \\epsilon$ as input and return the finite difference solution $U$ as vector of the *interior nodes only*, i.e., $U = (U_1, \\dots, U_{N-1})$, where $U_n \\approx u(x_n)$. "
   ]
  },
  {
   "cell_type": "code",
   "execution_count": null,
   "id": "804d5f99",
   "metadata": {
    "deletable": false,
    "nbgrader": {
     "cell_type": "code",
     "checksum": "5e5b67034fae22b69682bf948b4891dd",
     "grade": true,
     "grade_id": "cell-3e1024d7f14ce974",
     "locked": false,
     "points": 5,
     "schema_version": 3,
     "solution": true,
     "task": false
    }
   },
   "outputs": [],
   "source": [
    "function steady_advection_diffusion(N, epsn)\n",
    "    h =  1/N\n",
    "    # YOUR CODE HERE\n",
    "    return U\n",
    "end\n"
   ]
  },
  {
   "cell_type": "markdown",
   "id": "b15e0510",
   "metadata": {
    "deletable": false,
    "editable": false,
    "nbgrader": {
     "cell_type": "markdown",
     "checksum": "06f668d93761e34d9395ace6b1a5a7a4",
     "grade": false,
     "grade_id": "cell-8f4255e9fab63b3a",
     "locked": true,
     "schema_version": 3,
     "solution": false,
     "task": false
    }
   },
   "source": [
    "### Question 1 continued [10] \n",
    "\n",
    "(e) Produce a figure that provides a graphical confirmation of the joint convergence rate in $h$ **and** $\\epsilon$. To get you started, there is some code provided that collects data in the form of $(h, \\epsilon, {\\rm error})$, and which you now need to visualize. You can use this as is, or modify the code to collect different data. There are multiple ways to solve this question. \n",
    "\n",
    "(To understand the provided code you will need to solve Question 1c in detail.)"
   ]
  },
  {
   "cell_type": "code",
   "execution_count": null,
   "id": "ac40dde1",
   "metadata": {
    "deletable": false,
    "nbgrader": {
     "cell_type": "code",
     "checksum": "9f3a5a8c99b0fc4865f5f81035e64156",
     "grade": true,
     "grade_id": "cell-28eab7301703e1d9",
     "locked": false,
     "points": 10,
     "schema_version": 3,
     "solution": true,
     "task": false
    }
   },
   "outputs": [],
   "source": [
    "\"\"\"Computes finite difference solution with N+1 grid points \n",
    "and returns the error in the max norm.\"\"\"\n",
    "function get_err(N, epsn)\n",
    "    u = x -> x - (exp(x/epsn) - 1) /  (exp(1/epsn) - 1)\n",
    "    X = range(0, 1, length=N+1)[2:end-1]\n",
    "    U = steady_advection_diffusion(N, epsn)\n",
    "    return norm(U - u.(X), Inf)\n",
    "end \n",
    "\n",
    "H = []\n",
    "Epsn = [] \n",
    "Err = []\n",
    "for epsn in [1.0, 0.3, 0.1, 0.03, 0.01]\n",
    "    for tau in [10.0, 3.0, 1.0, 0.3, 0.1, 0.03, 0.01, 0.003, 0.001]\n",
    "        h = tau * epsn^(-2/3)\n",
    "        N = max(10, ceil(Int, 1/h))\n",
    "        push!(H, 1/N)\n",
    "        push!(Epsn, epsn)\n",
    "        push!(Err, get_err(N, epsn))\n",
    "    end\n",
    "end\n",
    "\n",
    "# Now use the error data collected in the above loop to \n",
    "# produce a convergence graph. The task is to come up with a \n",
    "# figure that clearly visually communicates the joint \n",
    "# asymptotics in h and ϵ in the error estimate from (c)\n",
    "# E.g. you could produce a scatter plot overlayed by the \n",
    "# theoretical prediction.\n",
    "\n",
    "# YOUR CODE HERE"
   ]
  },
  {
   "cell_type": "markdown",
   "id": "bce2dee6",
   "metadata": {
    "deletable": false,
    "editable": false,
    "nbgrader": {
     "cell_type": "markdown",
     "checksum": "56f470cab73cc65be499a9bc5af04277",
     "grade": false,
     "grade_id": "cell-de6b52ac207f3012",
     "locked": true,
     "schema_version": 3,
     "solution": false,
     "task": false
    }
   },
   "source": [
    "----"
   ]
  },
  {
   "cell_type": "markdown",
   "id": "93b8a674",
   "metadata": {
    "deletable": false,
    "editable": false,
    "nbgrader": {
     "cell_type": "markdown",
     "checksum": "16c3abb8f6c21825c8010ea230287145",
     "grade": false,
     "grade_id": "cell-753225fdb2bc4939",
     "locked": true,
     "schema_version": 3,
     "solution": false,
     "task": false
    }
   },
   "source": [
    "### Question 2: Advection with Boundary Condition  [5+7+8]\n",
    "\n",
    "For $a > 0$ consider the advection equation with an inflow boundary at $x = 0$ and an outflow boundary at $x = 1$:\n",
    "\n",
    "$$\n",
    "\\begin{aligned}\n",
    "    u_t + a u_x &= 0,  \\qquad x \\in (0, 1), t \\in (0, 1), \\\\ \n",
    "    u(0, x) &= u_0(x), \\\\ \n",
    "    u(t, 0) &= q(t).\n",
    "\\end{aligned}\n",
    "$$\n",
    "\n",
    "(a) Adapt the upwind discretisation from the lecture for this equation and write down the full discrete system.\n",
    "\n",
    "(b) Define the truncation error $T_n^m$ and prove that \n",
    "$$\n",
    "    |T_n^m| \\leq C\\big( c_h h + c_\\tau \\tau \\big)\n",
    "$$\n",
    "specifying the constants $c_h, c_\\tau$ in terms of the max-norm of derivatives of $u$.\n",
    "\n",
    "(c) Follow the stability and converge proof in the lectures to deduce that \n",
    "$$\n",
    "    \\max_{n, m} |U_n^m - u(m\\tau, nh)| \\leq C(h + \\tau),\n",
    "$$\n",
    "To prove this you will need to use the CFL condition. Clearly state it and point out where you are using it."
   ]
  },
  {
   "cell_type": "markdown",
   "id": "956cce0a",
   "metadata": {
    "deletable": false,
    "nbgrader": {
     "cell_type": "markdown",
     "checksum": "7f09b943ce5d88409684167cb71fedac",
     "grade": true,
     "grade_id": "cell-78e17d4b0124d9ff",
     "locked": false,
     "points": 20,
     "schema_version": 3,
     "solution": true,
     "task": false
    }
   },
   "source": [
    "YOUR ANSWER HERE"
   ]
  },
  {
   "cell_type": "markdown",
   "id": "8b36d13d",
   "metadata": {
    "deletable": false,
    "editable": false,
    "nbgrader": {
     "cell_type": "markdown",
     "checksum": "ffefe84d3195678c665bfb29ac7ba270",
     "grade": false,
     "grade_id": "cell-fd172f290dcabfea",
     "locked": true,
     "schema_version": 3,
     "solution": false,
     "task": false
    }
   },
   "source": [
    "### Question 2 continued [10] \n",
    "\n",
    "(d) Convergence study: \n",
    "Let $a = 1.3$ and consider an exact solution $u(t, x) = \\sin(4*(x - a t))$ to the homogeneous solution. \n",
    "Determine the corresponding initial and boundary values $u_0(x)$ and $q(t)$. \n",
    "Then implement a function that takes `h` or `N` as input, then determines a suitable time-step $\\tau$ and then solves the finite-difference scheme from part (a) for $0 \\leq t \\leq 1$. Compute the error, plot it against $N$, and confirm that the rate you obtain is the rate that you predicted. \n",
    "\n",
    "As general guidance, your code could like something like this: \n",
    "```julia\n",
    "const a = 1.3 \n",
    "u0(x) = \n",
    "q(t) = \n",
    "u(t, x) = \n",
    "\n",
    "function compute_error(N)\n",
    "    X = range(0, 1, length=N+1)\n",
    "    h = 1/N\n",
    "    τ =         # choose a good time-step, not too large, not too small    \n",
    "    M = ceil(Int, 1/τ)    # it is ok to solve up to a time slightly > 1\n",
    "    U = u0.(X)     # the initial condition \n",
    "    err = 0.0 \n",
    "    for m = 1:M\n",
    "        U[2:end] = # ... the finite-difference scheme\n",
    "        U[1] = # the boundary condition \n",
    "        err = max(err, # measure the error at the current time \n",
    "    end\n",
    "    return err \n",
    "end\n",
    "\n",
    "NN =   # choose a suitable collection of N values\n",
    "err = compute_error.(NN)\n",
    "plot(NN, err, label = \"error\", \n",
    "    lw=2, m=:o,ms=6, yscale=:log10, xscale=:log10, size = (500, 350))\n",
    "plot!(NN[3:5], 3*NN[3:5].^(-1), label = \"predicted rate\", \n",
    "      lw=2, c=:black, ls=:dash)\n",
    "```"
   ]
  },
  {
   "cell_type": "code",
   "execution_count": null,
   "id": "5a65d500",
   "metadata": {
    "deletable": false,
    "nbgrader": {
     "cell_type": "code",
     "checksum": "9c6225736219247e27eb2edebb8cc4ba",
     "grade": true,
     "grade_id": "cell-8993e7da619e9878",
     "locked": false,
     "points": 10,
     "schema_version": 3,
     "solution": true,
     "task": false
    }
   },
   "outputs": [],
   "source": [
    "# YOUR CODE HERE"
   ]
  },
  {
   "cell_type": "markdown",
   "id": "585bef10",
   "metadata": {
    "deletable": false,
    "editable": false,
    "nbgrader": {
     "cell_type": "markdown",
     "checksum": "2bcd6a92addd214dbf774541dcb97446",
     "grade": false,
     "grade_id": "cell-6accb0763e3d1134",
     "locked": true,
     "schema_version": 3,
     "solution": false,
     "task": false
    }
   },
   "source": [
    "---"
   ]
  },
  {
   "cell_type": "markdown",
   "id": "a0f1eb1a",
   "metadata": {
    "deletable": false,
    "editable": false,
    "nbgrader": {
     "cell_type": "markdown",
     "checksum": "435f288d9f911b1024ee8cf5ac85dc72",
     "grade": false,
     "grade_id": "cell-b93ae1886e3517e6",
     "locked": true,
     "schema_version": 3,
     "solution": false,
     "task": false
    }
   },
   "source": [
    "### Question  3: Crank-Nicholson Method [5+5+10]\n",
    "\n",
    "Consider the model diffusion equation \n",
    "$$\\begin{aligned}\n",
    "    u_t(t, x) &= u_{xx}(t, x) + f(t, x), \\\\ \n",
    "    u(0, x) &= u_0(x), \\\\ \n",
    "    u(t, 0) &= u(t, 1) = 0\n",
    "\\end{aligned}$$\n",
    "for $x \\in (0, 1)$ and $t \\in (0, 1)$, $u_0 : [0, 1] \\to \\mathbb{R}$, $f : [0, 1] \\times [0, 1] \\to \\mathbb{R}$.\n",
    "\n",
    "(a) Discretise it using second-order centered finite-differences in space and the Crank-Nicholson scheme (cf L09, L10) in time. Write down the full set of equations for the *interior* degrees of freedom, $U_n^m \\approx u(m \\tau, n h)$, $n = 1, \\dots, N$, where $h$ is the spatial grid spacing and $\\tau$ the time-step.\n",
    "\n",
    "(b) Define the truncation error $T_n^m$. \n",
    "\n",
    "(c) It can be shown that the truncation error satisfies\n",
    "$$\n",
    "    |T_n^m| \\leq C  \\big( h^2 +\\tau^2 \\big).\n",
    "$$\n",
    "This is a long and tedious proof which you don't need to carry out. Instead, use the max-norm stability technique (*NOT* the von Neumann stability!!) from L13 to prove that \n",
    "$$\n",
    "    \\| U - u \\|_\\infty := \\max_{n, m} |U_n^m - u(\\tau m, h n)|\n",
    "$$\n",
    " $n = 0, \\dots, N$ and $m = 0, \\dots, M := \\lceil 1/\\tau \\rceil$. You will need a restriction on the time-step $\\tau$ in terms of $h$. Make sure you state precisely what that restriction is. \n",
    " \n",
    "*Note: we will continue the discussion of this restriction after some von Neumann analysis in Q5.*"
   ]
  },
  {
   "cell_type": "markdown",
   "id": "4c31f9d5",
   "metadata": {
    "deletable": false,
    "nbgrader": {
     "cell_type": "markdown",
     "checksum": "9108095d54e740bc00525f4db5391b33",
     "grade": true,
     "grade_id": "cell-2e78df47cfa9e594",
     "locked": false,
     "points": 20,
     "schema_version": 3,
     "solution": true,
     "task": false
    }
   },
   "source": [
    "YOUR ANSWER HERE"
   ]
  },
  {
   "cell_type": "markdown",
   "id": "1bc623ab",
   "metadata": {
    "deletable": false,
    "editable": false,
    "nbgrader": {
     "cell_type": "markdown",
     "checksum": "14b5050b7a28cf4cb66b14971584f89f",
     "grade": false,
     "grade_id": "cell-c001be8c48186295",
     "locked": true,
     "schema_version": 3,
     "solution": false,
     "task": false
    }
   },
   "source": [
    "---------"
   ]
  },
  {
   "cell_type": "markdown",
   "id": "132a221c",
   "metadata": {
    "deletable": false,
    "editable": false,
    "nbgrader": {
     "cell_type": "markdown",
     "checksum": "9442bba532a875be45f93ab0323a434e",
     "grade": false,
     "grade_id": "cell-4d9ce5e8084b3729",
     "locked": true,
     "schema_version": 3,
     "solution": false,
     "task": false
    }
   },
   "source": [
    "\n",
    "### Question 4: Review Fourier Analysis [5+5+5]\n",
    "\n",
    "We consider sequences $(U_n)_{n \\in \\mathbb{Z}}$ where we think of $U_n \\approx u(h n)$. The semi-discrete Fourier transform is given by \n",
    "$$\n",
    "    \\hat{U}(k) := h \\sum_{n \\in \\mathbb{Z}} U_n e^{i k h n}, \\qquad k \\in (-\\pi/h, \\pi/h].\n",
    "$$\n",
    "We can think of the mapping $U \\mapsto \\hat{U}$ as a coordinate transformation or a basis transformation. A (homogeneous) finite-difference scheme in terms of $U$ can be rewritten in terms of $\\hat{U}$ and becomes *diagonal*. In preparation, we now transform three finite-difference operators into reciprocal space:\n",
    "\n",
    "**Note:** The semi-discrete Fourier transform is more commonly defined as $\\hat{U}(k) := \\sum_{n \\in \\mathbb{Z}} U_n e^{-i k h n}.$ Since the choice of sign is a bit arbitrary and I used the $e^{i k h n}$ definition in the lectures, I am sticking with it for the assignment as well. But please be aware that most references you look at will use the $e^{- i k h n}$ definition.\n",
    "\n",
    "(a) Let $V_n := U_n - U_{n-1}$; prove that \n",
    "$$\n",
    "    \\hat{V}(k) = (1 - e^{ikh}) \\hat{U}(k)\n",
    "$$\n",
    "\n",
    "(b) Let $V_n := U_{n+1} - U_{n-1}$; prove that \n",
    "$$\n",
    "    \\hat{V}(k) = 2i \\sin(kh) \\hat{U}(k)\n",
    "$$\n",
    "\n",
    "(c) Let $V_n := U_{n+1} - 2 U_n + U_{n-1}$; prove that \n",
    "$$\n",
    "    \\hat{V}(k) = - 4 \\sin^2(kh/2) \\hat{U}(k).\n",
    "$$\n"
   ]
  },
  {
   "cell_type": "markdown",
   "id": "b8e5e055",
   "metadata": {
    "deletable": false,
    "nbgrader": {
     "cell_type": "markdown",
     "checksum": "dd7732eaf7b85c3fce2b41a964a3a6a8",
     "grade": true,
     "grade_id": "cell-01dbc34850ef1c8a",
     "locked": false,
     "points": 15,
     "schema_version": 3,
     "solution": true,
     "task": false
    }
   },
   "source": [
    "YOUR ANSWER HERE"
   ]
  },
  {
   "cell_type": "markdown",
   "id": "ce72eda3",
   "metadata": {
    "deletable": false,
    "editable": false,
    "nbgrader": {
     "cell_type": "markdown",
     "checksum": "1e2a6971662ef2ca42de854bebb63090",
     "grade": false,
     "grade_id": "cell-38b95586ce6cb41f",
     "locked": true,
     "schema_version": 3,
     "solution": false,
     "task": false
    }
   },
   "source": [
    "<a name = 'q7'></a>\n",
    "\n",
    "### Question 5: Von Neuman Stability Analysis [8+7] \n",
    "\n",
    "All finite-difference discretisations of various advection-diffusion systems we have considered so far can be written in the form \n",
    "$$\n",
    "    [A U^{m+1}]_n = [B U^m]_n,\n",
    "$$\n",
    "where $A, B$ are finite-difference operators. By writing $\\widehat{A U}(k) =\n",
    "\\hat{a}(k) \\hat{U}(k)$ we obtain \n",
    "$$\n",
    "    \\hat{a}(k) \\hat{U}^{m+1}(k) = \\hat{b}(k) \\hat{U}^m(k), \n",
    "$$\n",
    "Thus, we obtain the stability estimate \n",
    "$$\n",
    "    \\| \\hat{U}^{m+1} \\|_{2} \\leq \\| \\hat{b}/\\hat{a} \\|_\\infty \\| \\hat{U}^m \\|_{2},\n",
    "$$\n",
    "and using the Plancherel theorem, \n",
    "$$\n",
    "    \\| U^{m+1} \\|_{2} \\leq \\| \\hat{b}/\\hat{a} \\|_\\infty \\| U^m \\|_{2}.\n",
    "$$\n",
    "A method is called *von Neumann stable* if $\\| \\hat{b}/\\hat{a} \\|_\\infty \\leq 1$. It is unconditionally stable, if there are no restrictions on the step size. In the following we look at two concrete examples. \n",
    "\n",
    "HINT: Use the results of Question 4!\n",
    "\n",
    "(a) Crank-Nicholson Scheme: show that the Crank-Nicholson method from Question 2, but now applied to the infinite grid $h\\mathbb{Z}$, is unconditionally von Neumann stable.\n",
    "\n",
    "(b) Consider the centered finite difference approximation of the advection equation $u_t + a u_x = 0$, \n",
    "$$\n",
    "    \\frac{U^{m+1}_n - U^m_n}{\\tau} + a \\frac{U^m_{n+1} - U^m_{n-1}}{2h} = 0, \n",
    "    \\qquad n \\in \\mathbb{Z}, m = 0, 1, \\dots, M-1,\n",
    "$$\n",
    "Prove that, given $h$, there is no choice of $\\tau$ for which this scheme is von Neumann stable. I.e. the scheme is unconditionally unstable.\n"
   ]
  },
  {
   "cell_type": "markdown",
   "id": "27c8d5dd",
   "metadata": {
    "deletable": false,
    "nbgrader": {
     "cell_type": "markdown",
     "checksum": "5676a8aec6ce11d8eef46adbe2e1cfca",
     "grade": true,
     "grade_id": "cell-d7ae7afea4d6f681",
     "locked": false,
     "points": 15,
     "schema_version": 3,
     "solution": true,
     "task": false
    }
   },
   "source": [
    "YOUR ANSWER HERE"
   ]
  },
  {
   "cell_type": "markdown",
   "id": "69e61da0",
   "metadata": {
    "deletable": false,
    "editable": false,
    "nbgrader": {
     "cell_type": "markdown",
     "checksum": "39818d8a4929ce9bac018984f00c93c5",
     "grade": false,
     "grade_id": "cell-7da72a4fdd598f4c",
     "locked": true,
     "schema_version": 3,
     "solution": false,
     "task": false
    }
   },
   "source": [
    "---"
   ]
  },
  {
   "cell_type": "markdown",
   "id": "a5a8337a",
   "metadata": {
    "deletable": false,
    "editable": false,
    "nbgrader": {
     "cell_type": "markdown",
     "checksum": "fbe5c2410ed6217099516ae04586c6d2",
     "grade": false,
     "grade_id": "cell-db73b753aa3d17e6",
     "locked": true,
     "schema_version": 3,
     "solution": false,
     "task": false
    }
   },
   "source": [
    "### Question 3 continued: vN Stability [0]\n",
    "\n",
    "This final part of the assignment will not be graded and is only intended for those who are interested getting a bit deeper into the subject. \n",
    "\n",
    "Imagine you are applying the CN scheme to the diffusion equation on all of $\\mathbb{R}$ resulting in the discretisation on the infinite grid $h \\mathbb{Z}$. Under some technical assumptions and with (a fair bit of) extra work you can prove a consistency error estimate in the 2-norm, of the form, \n",
    "$$\n",
    "  h^{1/2} \\| T^m \\|_2 \\leq C(h^2 + \\tau^2)\n",
    "$$\n",
    "This is reasonable to expect from the max-norm estimate but non-trivial because of issues related to the infinite domain. \n",
    "\n",
    "Use this, combined with the vN stability analysis from Q5 to prove that --- without any conditions on $h, \\tau$ --- the CN scheme satissfies \n",
    "$$\n",
    "    \\max_{m=0,\\dots,M}  \\bigg( h\\sum_{n \\in \\mathbb{Z}} |u(t_m, x_n) - U_{m,n}|^2 \\bigg)^{1/2} \\leq C (\\tau M) (h^2 + \\tau^2).\n",
    "$$"
   ]
  }
 ],
 "metadata": {
  "kernelspec": {
   "display_name": "Julia 1.7.3",
   "language": "julia",
   "name": "julia-1.7"
  },
  "language_info": {
   "file_extension": ".jl",
   "mimetype": "application/julia",
   "name": "julia",
   "version": "1.7.3"
  }
 },
 "nbformat": 4,
 "nbformat_minor": 5
}
